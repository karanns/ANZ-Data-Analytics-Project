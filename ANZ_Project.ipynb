{
  "nbformat": 4,
  "nbformat_minor": 0,
  "metadata": {
    "colab": {
      "name": "ANZ Project",
      "provenance": [],
      "collapsed_sections": []
    },
    "kernelspec": {
      "name": "python3",
      "display_name": "Python 3"
    },
    "language_info": {
      "name": "python"
    }
  },
  "cells": [
    {
      "cell_type": "code",
      "metadata": {
        "id": "pwBxOypZJYiz"
      },
      "source": [
        "import pandas as pd\n",
        "import numpy as np\n",
        "import matplotlib.pyplot as plt\n",
        "import seaborn as sns"
      ],
      "execution_count": 1,
      "outputs": []
    },
    {
      "cell_type": "code",
      "metadata": {
        "colab": {
          "base_uri": "https://localhost:8080/"
        },
        "id": "M5doXVmILgRR",
        "outputId": "7dffed05-580c-41e1-fe79-461f3ad8de39"
      },
      "source": [
        "from google.colab import drive\n",
        "drive.mount('/content/drive')"
      ],
      "execution_count": 2,
      "outputs": [
        {
          "output_type": "stream",
          "text": [
            "Mounted at /content/drive\n"
          ],
          "name": "stdout"
        }
      ]
    },
    {
      "cell_type": "code",
      "metadata": {
        "id": "j3VLD4BXLhQw"
      },
      "source": [
        "df = pd.read_excel('/content/drive/MyDrive/Data.xlsx')"
      ],
      "execution_count": 3,
      "outputs": []
    },
    {
      "cell_type": "code",
      "metadata": {
        "colab": {
          "base_uri": "https://localhost:8080/"
        },
        "id": "I0Ij53FtMAtR",
        "outputId": "18b8b905-1cd1-4d2a-c110-ed1d62240d92"
      },
      "source": [
        "df.info()"
      ],
      "execution_count": 4,
      "outputs": [
        {
          "output_type": "stream",
          "text": [
            "<class 'pandas.core.frame.DataFrame'>\n",
            "RangeIndex: 12043 entries, 0 to 12042\n",
            "Data columns (total 23 columns):\n",
            " #   Column             Non-Null Count  Dtype         \n",
            "---  ------             --------------  -----         \n",
            " 0   status             12043 non-null  object        \n",
            " 1   card_present_flag  7717 non-null   float64       \n",
            " 2   bpay_biller_code   885 non-null    object        \n",
            " 3   account            12043 non-null  object        \n",
            " 4   currency           12043 non-null  object        \n",
            " 5   long_lat           12043 non-null  object        \n",
            " 6   txn_description    12043 non-null  object        \n",
            " 7   merchant_id        7717 non-null   object        \n",
            " 8   merchant_code      883 non-null    float64       \n",
            " 9   first_name         12043 non-null  object        \n",
            " 10  balance            12043 non-null  float64       \n",
            " 11  date               12043 non-null  datetime64[ns]\n",
            " 12  gender             12043 non-null  object        \n",
            " 13  age                12043 non-null  int64         \n",
            " 14  merchant_suburb    7717 non-null   object        \n",
            " 15  merchant_state     7717 non-null   object        \n",
            " 16  extraction         12043 non-null  object        \n",
            " 17  amount             12043 non-null  float64       \n",
            " 18  transaction_id     12043 non-null  object        \n",
            " 19  country            12043 non-null  object        \n",
            " 20  customer_id        12043 non-null  object        \n",
            " 21  merchant_long_lat  7717 non-null   object        \n",
            " 22  movement           12043 non-null  object        \n",
            "dtypes: datetime64[ns](1), float64(4), int64(1), object(17)\n",
            "memory usage: 2.1+ MB\n"
          ],
          "name": "stdout"
        }
      ]
    },
    {
      "cell_type": "code",
      "metadata": {
        "id": "dGgEqY_jMDtz"
      },
      "source": [
        "df = df[['status', 'bpay_biller_code', 'account',\n",
        "       'currency', 'long_lat', 'txn_description', \n",
        "       'merchant_code', 'first_name', 'balance', 'date', 'gender', 'age','extraction', 'amount',\n",
        "       'transaction_id', 'country', 'customer_id', 'movement','card_present_flag','merchant_id','merchant_suburb', \n",
        "       'merchant_state','merchant_long_lat']]"
      ],
      "execution_count": 5,
      "outputs": []
    },
    {
      "cell_type": "code",
      "metadata": {
        "colab": {
          "base_uri": "https://localhost:8080/",
          "height": 479
        },
        "id": "3tHITkg6MbKP",
        "outputId": "cd679702-ae78-462a-da36-b5b3923bf143"
      },
      "source": [
        "df.head()"
      ],
      "execution_count": 6,
      "outputs": [
        {
          "output_type": "execute_result",
          "data": {
            "text/html": [
              "<div>\n",
              "<style scoped>\n",
              "    .dataframe tbody tr th:only-of-type {\n",
              "        vertical-align: middle;\n",
              "    }\n",
              "\n",
              "    .dataframe tbody tr th {\n",
              "        vertical-align: top;\n",
              "    }\n",
              "\n",
              "    .dataframe thead th {\n",
              "        text-align: right;\n",
              "    }\n",
              "</style>\n",
              "<table border=\"1\" class=\"dataframe\">\n",
              "  <thead>\n",
              "    <tr style=\"text-align: right;\">\n",
              "      <th></th>\n",
              "      <th>status</th>\n",
              "      <th>bpay_biller_code</th>\n",
              "      <th>account</th>\n",
              "      <th>currency</th>\n",
              "      <th>long_lat</th>\n",
              "      <th>txn_description</th>\n",
              "      <th>merchant_code</th>\n",
              "      <th>first_name</th>\n",
              "      <th>balance</th>\n",
              "      <th>date</th>\n",
              "      <th>gender</th>\n",
              "      <th>age</th>\n",
              "      <th>extraction</th>\n",
              "      <th>amount</th>\n",
              "      <th>transaction_id</th>\n",
              "      <th>country</th>\n",
              "      <th>customer_id</th>\n",
              "      <th>movement</th>\n",
              "      <th>card_present_flag</th>\n",
              "      <th>merchant_id</th>\n",
              "      <th>merchant_suburb</th>\n",
              "      <th>merchant_state</th>\n",
              "      <th>merchant_long_lat</th>\n",
              "    </tr>\n",
              "  </thead>\n",
              "  <tbody>\n",
              "    <tr>\n",
              "      <th>0</th>\n",
              "      <td>authorized</td>\n",
              "      <td>NaN</td>\n",
              "      <td>ACC-1598451071</td>\n",
              "      <td>AUD</td>\n",
              "      <td>153.41 -27.95</td>\n",
              "      <td>POS</td>\n",
              "      <td>NaN</td>\n",
              "      <td>Diana</td>\n",
              "      <td>35.39</td>\n",
              "      <td>2018-08-01</td>\n",
              "      <td>F</td>\n",
              "      <td>26</td>\n",
              "      <td>2018-08-01T01:01:15.000+0000</td>\n",
              "      <td>16.25</td>\n",
              "      <td>a623070bfead4541a6b0fff8a09e706c</td>\n",
              "      <td>Australia</td>\n",
              "      <td>CUS-2487424745</td>\n",
              "      <td>debit</td>\n",
              "      <td>1.0</td>\n",
              "      <td>81c48296-73be-44a7-befa-d053f48ce7cd</td>\n",
              "      <td>Ashmore</td>\n",
              "      <td>QLD</td>\n",
              "      <td>153.38 -27.99</td>\n",
              "    </tr>\n",
              "    <tr>\n",
              "      <th>1</th>\n",
              "      <td>authorized</td>\n",
              "      <td>NaN</td>\n",
              "      <td>ACC-1598451071</td>\n",
              "      <td>AUD</td>\n",
              "      <td>153.41 -27.95</td>\n",
              "      <td>SALES-POS</td>\n",
              "      <td>NaN</td>\n",
              "      <td>Diana</td>\n",
              "      <td>21.20</td>\n",
              "      <td>2018-08-01</td>\n",
              "      <td>F</td>\n",
              "      <td>26</td>\n",
              "      <td>2018-08-01T01:13:45.000+0000</td>\n",
              "      <td>14.19</td>\n",
              "      <td>13270a2a902145da9db4c951e04b51b9</td>\n",
              "      <td>Australia</td>\n",
              "      <td>CUS-2487424745</td>\n",
              "      <td>debit</td>\n",
              "      <td>0.0</td>\n",
              "      <td>830a451c-316e-4a6a-bf25-e37caedca49e</td>\n",
              "      <td>Sydney</td>\n",
              "      <td>NSW</td>\n",
              "      <td>151.21 -33.87</td>\n",
              "    </tr>\n",
              "    <tr>\n",
              "      <th>2</th>\n",
              "      <td>authorized</td>\n",
              "      <td>NaN</td>\n",
              "      <td>ACC-1222300524</td>\n",
              "      <td>AUD</td>\n",
              "      <td>151.23 -33.94</td>\n",
              "      <td>POS</td>\n",
              "      <td>NaN</td>\n",
              "      <td>Michael</td>\n",
              "      <td>5.71</td>\n",
              "      <td>2018-08-01</td>\n",
              "      <td>M</td>\n",
              "      <td>38</td>\n",
              "      <td>2018-08-01T01:26:15.000+0000</td>\n",
              "      <td>6.42</td>\n",
              "      <td>feb79e7ecd7048a5a36ec889d1a94270</td>\n",
              "      <td>Australia</td>\n",
              "      <td>CUS-2142601169</td>\n",
              "      <td>debit</td>\n",
              "      <td>1.0</td>\n",
              "      <td>835c231d-8cdf-4e96-859d-e9d571760cf0</td>\n",
              "      <td>Sydney</td>\n",
              "      <td>NSW</td>\n",
              "      <td>151.21 -33.87</td>\n",
              "    </tr>\n",
              "    <tr>\n",
              "      <th>3</th>\n",
              "      <td>authorized</td>\n",
              "      <td>NaN</td>\n",
              "      <td>ACC-1037050564</td>\n",
              "      <td>AUD</td>\n",
              "      <td>153.10 -27.66</td>\n",
              "      <td>SALES-POS</td>\n",
              "      <td>NaN</td>\n",
              "      <td>Rhonda</td>\n",
              "      <td>2117.22</td>\n",
              "      <td>2018-08-01</td>\n",
              "      <td>F</td>\n",
              "      <td>40</td>\n",
              "      <td>2018-08-01T01:38:45.000+0000</td>\n",
              "      <td>40.90</td>\n",
              "      <td>2698170da3704fd981b15e64a006079e</td>\n",
              "      <td>Australia</td>\n",
              "      <td>CUS-1614226872</td>\n",
              "      <td>debit</td>\n",
              "      <td>1.0</td>\n",
              "      <td>48514682-c78a-4a88-b0da-2d6302e64673</td>\n",
              "      <td>Buderim</td>\n",
              "      <td>QLD</td>\n",
              "      <td>153.05 -26.68</td>\n",
              "    </tr>\n",
              "    <tr>\n",
              "      <th>4</th>\n",
              "      <td>authorized</td>\n",
              "      <td>NaN</td>\n",
              "      <td>ACC-1598451071</td>\n",
              "      <td>AUD</td>\n",
              "      <td>153.41 -27.95</td>\n",
              "      <td>SALES-POS</td>\n",
              "      <td>NaN</td>\n",
              "      <td>Diana</td>\n",
              "      <td>17.95</td>\n",
              "      <td>2018-08-01</td>\n",
              "      <td>F</td>\n",
              "      <td>26</td>\n",
              "      <td>2018-08-01T01:51:15.000+0000</td>\n",
              "      <td>3.25</td>\n",
              "      <td>329adf79878c4cf0aeb4188b4691c266</td>\n",
              "      <td>Australia</td>\n",
              "      <td>CUS-2487424745</td>\n",
              "      <td>debit</td>\n",
              "      <td>1.0</td>\n",
              "      <td>b4e02c10-0852-4273-b8fd-7b3395e32eb0</td>\n",
              "      <td>Mermaid Beach</td>\n",
              "      <td>QLD</td>\n",
              "      <td>153.44 -28.06</td>\n",
              "    </tr>\n",
              "  </tbody>\n",
              "</table>\n",
              "</div>"
            ],
            "text/plain": [
              "       status bpay_biller_code  ... merchant_state merchant_long_lat\n",
              "0  authorized              NaN  ...            QLD     153.38 -27.99\n",
              "1  authorized              NaN  ...            NSW     151.21 -33.87\n",
              "2  authorized              NaN  ...            NSW     151.21 -33.87\n",
              "3  authorized              NaN  ...            QLD     153.05 -26.68\n",
              "4  authorized              NaN  ...            QLD     153.44 -28.06\n",
              "\n",
              "[5 rows x 23 columns]"
            ]
          },
          "metadata": {
            "tags": []
          },
          "execution_count": 6
        }
      ]
    },
    {
      "cell_type": "code",
      "metadata": {
        "colab": {
          "base_uri": "https://localhost:8080/"
        },
        "id": "QaOp6EJUNKXo",
        "outputId": "7a56bd50-ca11-42f1-a817-9ae61b5b956e"
      },
      "source": [
        "df.merchant_state.value_counts()"
      ],
      "execution_count": 7,
      "outputs": [
        {
          "output_type": "execute_result",
          "data": {
            "text/plain": [
              "NSW    2169\n",
              "VIC    2131\n",
              "QLD    1556\n",
              "WA     1100\n",
              "SA      415\n",
              "NT      205\n",
              "ACT      73\n",
              "TAS      68\n",
              "Name: merchant_state, dtype: int64"
            ]
          },
          "metadata": {
            "tags": []
          },
          "execution_count": 7
        }
      ]
    },
    {
      "cell_type": "code",
      "metadata": {
        "colab": {
          "base_uri": "https://localhost:8080/"
        },
        "id": "6s-X2s3zNWc0",
        "outputId": "2c80dbc9-b566-46e5-c7c7-ed9d236606b9"
      },
      "source": [
        "df.merchant_suburb.value_counts()"
      ],
      "execution_count": 8,
      "outputs": [
        {
          "output_type": "execute_result",
          "data": {
            "text/plain": [
              "Melbourne          255\n",
              "Sydney             233\n",
              "Southport           82\n",
              "Brisbane City       79\n",
              "Chatswood           55\n",
              "                  ... \n",
              "Dutton Park          1\n",
              "Waikiki              1\n",
              "Dandenong North      1\n",
              "Cairns North         1\n",
              "Birkenhead           1\n",
              "Name: merchant_suburb, Length: 1609, dtype: int64"
            ]
          },
          "metadata": {
            "tags": []
          },
          "execution_count": 8
        }
      ]
    },
    {
      "cell_type": "code",
      "metadata": {
        "colab": {
          "base_uri": "https://localhost:8080/"
        },
        "id": "kLvPHFPoNieN",
        "outputId": "bfa0de35-2cd3-4fbd-de3c-6fc052cf572e"
      },
      "source": [
        "df.account.value_counts()"
      ],
      "execution_count": 9,
      "outputs": [
        {
          "output_type": "execute_result",
          "data": {
            "text/plain": [
              "ACC-1598451071    578\n",
              "ACC-1222300524    303\n",
              "ACC-182446574     292\n",
              "ACC-4258502723    260\n",
              "ACC-1037050564    259\n",
              "                 ... \n",
              "ACC-1998563091     40\n",
              "ACC-3881031190     37\n",
              "ACC-721712940      34\n",
              "ACC-4059612845     31\n",
              "ACC-1217063613     25\n",
              "Name: account, Length: 100, dtype: int64"
            ]
          },
          "metadata": {
            "tags": []
          },
          "execution_count": 9
        }
      ]
    },
    {
      "cell_type": "code",
      "metadata": {
        "colab": {
          "base_uri": "https://localhost:8080/",
          "height": 285
        },
        "id": "l9Glqax5Oq55",
        "outputId": "e2ed7819-d02f-4a3d-ffd2-8ba3b05dd72a"
      },
      "source": [
        "sns.set_theme(style=\"darkgrid\")\n",
        "ax = sns.countplot(x=\"movement\",hue = 'merchant_state', data=df)"
      ],
      "execution_count": 10,
      "outputs": [
        {
          "output_type": "display_data",
          "data": {
            "image/png": "[encoded data removed]",
            "text/plain": [
              "<Figure size 432x288 with 1 Axes>"
            ]
          },
          "metadata": {
            "tags": []
          }
        }
      ]
    },
    {
      "cell_type": "code",
      "metadata": {
        "colab": {
          "base_uri": "https://localhost:8080/",
          "height": 611
        },
        "id": "FgBEtCq2Pfr4",
        "outputId": "e98ae766-8c18-4552-d6ba-f420052cb655"
      },
      "source": [
        "plt.figure(figsize=(20,10))\n",
        "sns.set_theme(style=\"darkgrid\",)\n",
        "ax = sns.countplot(y=\"age\",hue = 'gender' ,data=df)"
      ],
      "execution_count": 11,
      "outputs": [
        {
          "output_type": "display_data",
          "data": {
            "image/png": "[encoded data removed]",
            "text/plain": [
              "<Figure size 1440x720 with 1 Axes>"
            ]
          },
          "metadata": {
            "tags": []
          }
        }
      ]
    },
    {
      "cell_type": "code",
      "metadata": {
        "colab": {
          "base_uri": "https://localhost:8080/",
          "height": 359
        },
        "id": "YiRb8EjJQMu3",
        "outputId": "a5e932f4-bc91-4b05-d9f9-51d96bcd29a7"
      },
      "source": [
        "table = pd.pivot_table(data=df,index=['merchant_state'], columns = df['gender'], aggfunc = 'sum')\n",
        "table"
      ],
      "execution_count": 12,
      "outputs": [
        {
          "output_type": "execute_result",
          "data": {
            "text/html": [
              "<div>\n",
              "<style scoped>\n",
              "    .dataframe tbody tr th:only-of-type {\n",
              "        vertical-align: middle;\n",
              "    }\n",
              "\n",
              "    .dataframe tbody tr th {\n",
              "        vertical-align: top;\n",
              "    }\n",
              "\n",
              "    .dataframe thead tr th {\n",
              "        text-align: left;\n",
              "    }\n",
              "\n",
              "    .dataframe thead tr:last-of-type th {\n",
              "        text-align: right;\n",
              "    }\n",
              "</style>\n",
              "<table border=\"1\" class=\"dataframe\">\n",
              "  <thead>\n",
              "    <tr>\n",
              "      <th></th>\n",
              "      <th colspan=\"2\" halign=\"left\">age</th>\n",
              "      <th colspan=\"2\" halign=\"left\">amount</th>\n",
              "      <th colspan=\"2\" halign=\"left\">balance</th>\n",
              "      <th colspan=\"2\" halign=\"left\">card_present_flag</th>\n",
              "      <th colspan=\"2\" halign=\"left\">merchant_code</th>\n",
              "    </tr>\n",
              "    <tr>\n",
              "      <th>gender</th>\n",
              "      <th>F</th>\n",
              "      <th>M</th>\n",
              "      <th>F</th>\n",
              "      <th>M</th>\n",
              "      <th>F</th>\n",
              "      <th>M</th>\n",
              "      <th>F</th>\n",
              "      <th>M</th>\n",
              "      <th>F</th>\n",
              "      <th>M</th>\n",
              "    </tr>\n",
              "    <tr>\n",
              "      <th>merchant_state</th>\n",
              "      <th></th>\n",
              "      <th></th>\n",
              "      <th></th>\n",
              "      <th></th>\n",
              "      <th></th>\n",
              "      <th></th>\n",
              "      <th></th>\n",
              "      <th></th>\n",
              "      <th></th>\n",
              "      <th></th>\n",
              "    </tr>\n",
              "  </thead>\n",
              "  <tbody>\n",
              "    <tr>\n",
              "      <th>ACT</th>\n",
              "      <td>1433</td>\n",
              "      <td>794</td>\n",
              "      <td>1657.44</td>\n",
              "      <td>3219.24</td>\n",
              "      <td>663951.76</td>\n",
              "      <td>247767.46</td>\n",
              "      <td>39.0</td>\n",
              "      <td>25.0</td>\n",
              "      <td>0.0</td>\n",
              "      <td>0.0</td>\n",
              "    </tr>\n",
              "    <tr>\n",
              "      <th>NSW</th>\n",
              "      <td>28423</td>\n",
              "      <td>36303</td>\n",
              "      <td>41430.88</td>\n",
              "      <td>60590.89</td>\n",
              "      <td>8678729.83</td>\n",
              "      <td>11814886.13</td>\n",
              "      <td>784.0</td>\n",
              "      <td>928.0</td>\n",
              "      <td>0.0</td>\n",
              "      <td>0.0</td>\n",
              "    </tr>\n",
              "    <tr>\n",
              "      <th>NT</th>\n",
              "      <td>5346</td>\n",
              "      <td>209</td>\n",
              "      <td>8741.42</td>\n",
              "      <td>427.47</td>\n",
              "      <td>946134.77</td>\n",
              "      <td>190059.32</td>\n",
              "      <td>163.0</td>\n",
              "      <td>4.0</td>\n",
              "      <td>0.0</td>\n",
              "      <td>0.0</td>\n",
              "    </tr>\n",
              "    <tr>\n",
              "      <th>QLD</th>\n",
              "      <td>24248</td>\n",
              "      <td>22298</td>\n",
              "      <td>28611.05</td>\n",
              "      <td>24872.40</td>\n",
              "      <td>2395555.00</td>\n",
              "      <td>8639602.51</td>\n",
              "      <td>645.0</td>\n",
              "      <td>621.0</td>\n",
              "      <td>0.0</td>\n",
              "      <td>0.0</td>\n",
              "    </tr>\n",
              "    <tr>\n",
              "      <th>SA</th>\n",
              "      <td>7598</td>\n",
              "      <td>5222</td>\n",
              "      <td>11349.73</td>\n",
              "      <td>5426.84</td>\n",
              "      <td>2770261.48</td>\n",
              "      <td>1857125.51</td>\n",
              "      <td>202.0</td>\n",
              "      <td>129.0</td>\n",
              "      <td>0.0</td>\n",
              "      <td>0.0</td>\n",
              "    </tr>\n",
              "    <tr>\n",
              "      <th>TAS</th>\n",
              "      <td>954</td>\n",
              "      <td>1372</td>\n",
              "      <td>622.72</td>\n",
              "      <td>1340.21</td>\n",
              "      <td>43436.35</td>\n",
              "      <td>733876.61</td>\n",
              "      <td>15.0</td>\n",
              "      <td>45.0</td>\n",
              "      <td>0.0</td>\n",
              "      <td>0.0</td>\n",
              "    </tr>\n",
              "    <tr>\n",
              "      <th>VIC</th>\n",
              "      <td>31013</td>\n",
              "      <td>37271</td>\n",
              "      <td>38626.01</td>\n",
              "      <td>48957.99</td>\n",
              "      <td>20539592.58</td>\n",
              "      <td>21341479.14</td>\n",
              "      <td>727.0</td>\n",
              "      <td>992.0</td>\n",
              "      <td>0.0</td>\n",
              "      <td>0.0</td>\n",
              "    </tr>\n",
              "    <tr>\n",
              "      <th>WA</th>\n",
              "      <td>17323</td>\n",
              "      <td>12105</td>\n",
              "      <td>19908.15</td>\n",
              "      <td>14083.91</td>\n",
              "      <td>4113899.18</td>\n",
              "      <td>6632586.04</td>\n",
              "      <td>527.0</td>\n",
              "      <td>348.0</td>\n",
              "      <td>0.0</td>\n",
              "      <td>0.0</td>\n",
              "    </tr>\n",
              "  </tbody>\n",
              "</table>\n",
              "</div>"
            ],
            "text/plain": [
              "                  age           amount  ... card_present_flag merchant_code     \n",
              "gender              F      M         F  ...                 M             F    M\n",
              "merchant_state                          ...                                     \n",
              "ACT              1433    794   1657.44  ...              25.0           0.0  0.0\n",
              "NSW             28423  36303  41430.88  ...             928.0           0.0  0.0\n",
              "NT               5346    209   8741.42  ...               4.0           0.0  0.0\n",
              "QLD             24248  22298  28611.05  ...             621.0           0.0  0.0\n",
              "SA               7598   5222  11349.73  ...             129.0           0.0  0.0\n",
              "TAS               954   1372    622.72  ...              45.0           0.0  0.0\n",
              "VIC             31013  37271  38626.01  ...             992.0           0.0  0.0\n",
              "WA              17323  12105  19908.15  ...             348.0           0.0  0.0\n",
              "\n",
              "[8 rows x 10 columns]"
            ]
          },
          "metadata": {
            "tags": []
          },
          "execution_count": 12
        }
      ]
    },
    {
      "cell_type": "code",
      "metadata": {
        "id": "YewYmjQkSX9X"
      },
      "source": [
        "df['Count'] = 1"
      ],
      "execution_count": 13,
      "outputs": []
    },
    {
      "cell_type": "code",
      "metadata": {
        "id": "vDJ-LSbjSw1C"
      },
      "source": [
        "transactions = df[['age','gender','merchant_state','Count','txn_description','movement']]"
      ],
      "execution_count": 14,
      "outputs": []
    },
    {
      "cell_type": "code",
      "metadata": {
        "colab": {
          "base_uri": "https://localhost:8080/",
          "height": 611
        },
        "id": "M4fwqzLQVBtk",
        "outputId": "b09d31c1-1752-4eb0-d059-d61de673dc7c"
      },
      "source": [
        "plt.figure(figsize=(20,10))\n",
        "sns.set_theme(style=\"darkgrid\",)\n",
        "ax = sns.countplot(y=\"movement\",hue = 'txn_description' ,data=transactions)"
      ],
      "execution_count": 15,
      "outputs": [
        {
          "output_type": "display_data",
          "data": {
            "image/png": "[encoded data removed]",
            "text/plain": [
              "<Figure size 1440x720 with 1 Axes>"
            ]
          },
          "metadata": {
            "tags": []
          }
        }
      ]
    },
    {
      "cell_type": "code",
      "metadata": {
        "colab": {
          "base_uri": "https://localhost:8080/",
          "height": 611
        },
        "id": "_tbVFhKlVNq_",
        "outputId": "67d97ec2-fe64-4f5d-f9a2-3456865f31ba"
      },
      "source": [
        "plt.figure(figsize=(20,10))\n",
        "sns.set_theme(style=\"darkgrid\",)\n",
        "ax = sns.countplot(x=\"Count\",hue = 'txn_description' ,data=transactions)"
      ],
      "execution_count": 16,
      "outputs": [
        {
          "output_type": "display_data",
          "data": {
            "image/png": "[encoded data removed]",
            "text/plain": [
              "<Figure size 1440x720 with 1 Axes>"
            ]
          },
          "metadata": {
            "tags": []
          }
        }
      ]
    },
    {
      "cell_type": "code",
      "metadata": {
        "colab": {
          "base_uri": "https://localhost:8080/"
        },
        "id": "vdL_XdcdVx_k",
        "outputId": "92930710-528d-4cd7-96b2-2a63435369e4"
      },
      "source": [
        "df.isnull().sum()"
      ],
      "execution_count": 17,
      "outputs": [
        {
          "output_type": "execute_result",
          "data": {
            "text/plain": [
              "status                   0\n",
              "bpay_biller_code     11158\n",
              "account                  0\n",
              "currency                 0\n",
              "long_lat                 0\n",
              "txn_description          0\n",
              "merchant_code        11160\n",
              "first_name               0\n",
              "balance                  0\n",
              "date                     0\n",
              "gender                   0\n",
              "age                      0\n",
              "extraction               0\n",
              "amount                   0\n",
              "transaction_id           0\n",
              "country                  0\n",
              "customer_id              0\n",
              "movement                 0\n",
              "card_present_flag     4326\n",
              "merchant_id           4326\n",
              "merchant_suburb       4326\n",
              "merchant_state        4326\n",
              "merchant_long_lat     4326\n",
              "Count                    0\n",
              "dtype: int64"
            ]
          },
          "metadata": {
            "tags": []
          },
          "execution_count": 17
        }
      ]
    },
    {
      "cell_type": "code",
      "metadata": {
        "id": "TQTMUUSaXHKy"
      },
      "source": [
        "df.drop(['bpay_biller_code','merchant_code'], axis = 1, inplace = True)"
      ],
      "execution_count": 18,
      "outputs": []
    },
    {
      "cell_type": "code",
      "metadata": {
        "colab": {
          "base_uri": "https://localhost:8080/"
        },
        "id": "7_vwNBlrY5Wv",
        "outputId": "391f8ec1-d217-48f9-e946-36daeb7bd342"
      },
      "source": [
        "df.account.nunique()"
      ],
      "execution_count": 19,
      "outputs": [
        {
          "output_type": "execute_result",
          "data": {
            "text/plain": [
              "100"
            ]
          },
          "metadata": {
            "tags": []
          },
          "execution_count": 19
        }
      ]
    },
    {
      "cell_type": "code",
      "metadata": {
        "id": "6GzDTDzpd8xq"
      },
      "source": [
        "datecount = df.groupby(\"date\").count()"
      ],
      "execution_count": 20,
      "outputs": []
    },
    {
      "cell_type": "code",
      "metadata": {
        "id": "siee6M00h4JQ"
      },
      "source": [
        "transactionvol = datecount[\"Count\"].mean()\n",
        "n = len(datecount.index)"
      ],
      "execution_count": 21,
      "outputs": []
    },
    {
      "cell_type": "code",
      "metadata": {
        "colab": {
          "base_uri": "https://localhost:8080/",
          "height": 670
        },
        "id": "URkWFCUjiMNs",
        "outputId": "09143fc3-7d81-4aab-a65c-d0e21ad65a4e"
      },
      "source": [
        "plt.figure(figsize=(20,10))\n",
        "plt.plot(datecount.index, datecount['Count'], c=\"green\", label = \"Transactions\")\n",
        "plt.plot(datecount.index, np.linspace(transactionvol,transactionvol,n), c=\"b\", label = \"Average transaction Volume\")\n",
        "plt.title(\"ANZ Transaction Volume vs. Date\")\n",
        "plt.xlabel(\"Date\")\n",
        "plt.ylabel(\"Number of Transactions\")\n",
        "plt.legend()\n",
        "plt.tight_layout()\n",
        "plt.show()"
      ],
      "execution_count": 22,
      "outputs": [
        {
          "output_type": "display_data",
          "data": {
            "image/png": "[encoded data removed]",
            "text/plain": [
              "<Figure size 1440x720 with 1 Axes>"
            ]
          },
          "metadata": {
            "tags": []
          }
        }
      ]
    },
    {
      "cell_type": "code",
      "metadata": {
        "colab": {
          "base_uri": "https://localhost:8080/",
          "height": 142
        },
        "id": "NHYU4C04gy66",
        "outputId": "d3991323-c542-4606-ed06-d15ef59dc570"
      },
      "source": [
        "pd.crosstab(df['card_present_flag'],df['age'])"
      ],
      "execution_count": 23,
      "outputs": [
        {
          "output_type": "execute_result",
          "data": {
            "text/html": [
              "<div>\n",
              "<style scoped>\n",
              "    .dataframe tbody tr th:only-of-type {\n",
              "        vertical-align: middle;\n",
              "    }\n",
              "\n",
              "    .dataframe tbody tr th {\n",
              "        vertical-align: top;\n",
              "    }\n",
              "\n",
              "    .dataframe thead th {\n",
              "        text-align: right;\n",
              "    }\n",
              "</style>\n",
              "<table border=\"1\" class=\"dataframe\">\n",
              "  <thead>\n",
              "    <tr style=\"text-align: right;\">\n",
              "      <th>age</th>\n",
              "      <th>18</th>\n",
              "      <th>19</th>\n",
              "      <th>20</th>\n",
              "      <th>21</th>\n",
              "      <th>22</th>\n",
              "      <th>23</th>\n",
              "      <th>24</th>\n",
              "      <th>25</th>\n",
              "      <th>26</th>\n",
              "      <th>27</th>\n",
              "      <th>28</th>\n",
              "      <th>29</th>\n",
              "      <th>30</th>\n",
              "      <th>31</th>\n",
              "      <th>33</th>\n",
              "      <th>34</th>\n",
              "      <th>35</th>\n",
              "      <th>37</th>\n",
              "      <th>38</th>\n",
              "      <th>39</th>\n",
              "      <th>40</th>\n",
              "      <th>41</th>\n",
              "      <th>42</th>\n",
              "      <th>43</th>\n",
              "      <th>44</th>\n",
              "      <th>46</th>\n",
              "      <th>47</th>\n",
              "      <th>50</th>\n",
              "      <th>52</th>\n",
              "      <th>53</th>\n",
              "      <th>64</th>\n",
              "      <th>69</th>\n",
              "      <th>78</th>\n",
              "    </tr>\n",
              "    <tr>\n",
              "      <th>card_present_flag</th>\n",
              "      <th></th>\n",
              "      <th></th>\n",
              "      <th></th>\n",
              "      <th></th>\n",
              "      <th></th>\n",
              "      <th></th>\n",
              "      <th></th>\n",
              "      <th></th>\n",
              "      <th></th>\n",
              "      <th></th>\n",
              "      <th></th>\n",
              "      <th></th>\n",
              "      <th></th>\n",
              "      <th></th>\n",
              "      <th></th>\n",
              "      <th></th>\n",
              "      <th></th>\n",
              "      <th></th>\n",
              "      <th></th>\n",
              "      <th></th>\n",
              "      <th></th>\n",
              "      <th></th>\n",
              "      <th></th>\n",
              "      <th></th>\n",
              "      <th></th>\n",
              "      <th></th>\n",
              "      <th></th>\n",
              "      <th></th>\n",
              "      <th></th>\n",
              "      <th></th>\n",
              "      <th></th>\n",
              "      <th></th>\n",
              "      <th></th>\n",
              "    </tr>\n",
              "  </thead>\n",
              "  <tbody>\n",
              "    <tr>\n",
              "      <th>0.0</th>\n",
              "      <td>50</td>\n",
              "      <td>81</td>\n",
              "      <td>102</td>\n",
              "      <td>87</td>\n",
              "      <td>44</td>\n",
              "      <td>29</td>\n",
              "      <td>99</td>\n",
              "      <td>61</td>\n",
              "      <td>141</td>\n",
              "      <td>66</td>\n",
              "      <td>46</td>\n",
              "      <td>15</td>\n",
              "      <td>72</td>\n",
              "      <td>40</td>\n",
              "      <td>16</td>\n",
              "      <td>82</td>\n",
              "      <td>47</td>\n",
              "      <td>43</td>\n",
              "      <td>117</td>\n",
              "      <td>29</td>\n",
              "      <td>78</td>\n",
              "      <td>11</td>\n",
              "      <td>24</td>\n",
              "      <td>56</td>\n",
              "      <td>24</td>\n",
              "      <td>10</td>\n",
              "      <td>8</td>\n",
              "      <td>8</td>\n",
              "      <td>11</td>\n",
              "      <td>9</td>\n",
              "      <td>6</td>\n",
              "      <td>11</td>\n",
              "      <td>0</td>\n",
              "    </tr>\n",
              "    <tr>\n",
              "      <th>1.0</th>\n",
              "      <td>210</td>\n",
              "      <td>338</td>\n",
              "      <td>428</td>\n",
              "      <td>384</td>\n",
              "      <td>181</td>\n",
              "      <td>111</td>\n",
              "      <td>459</td>\n",
              "      <td>307</td>\n",
              "      <td>560</td>\n",
              "      <td>250</td>\n",
              "      <td>196</td>\n",
              "      <td>52</td>\n",
              "      <td>292</td>\n",
              "      <td>118</td>\n",
              "      <td>80</td>\n",
              "      <td>269</td>\n",
              "      <td>191</td>\n",
              "      <td>164</td>\n",
              "      <td>437</td>\n",
              "      <td>116</td>\n",
              "      <td>352</td>\n",
              "      <td>61</td>\n",
              "      <td>76</td>\n",
              "      <td>220</td>\n",
              "      <td>64</td>\n",
              "      <td>42</td>\n",
              "      <td>44</td>\n",
              "      <td>23</td>\n",
              "      <td>32</td>\n",
              "      <td>39</td>\n",
              "      <td>53</td>\n",
              "      <td>42</td>\n",
              "      <td>3</td>\n",
              "    </tr>\n",
              "  </tbody>\n",
              "</table>\n",
              "</div>"
            ],
            "text/plain": [
              "age                 18   19   20   21   22   23  ...  50  52  53  64  69  78\n",
              "card_present_flag                                ...                        \n",
              "0.0                 50   81  102   87   44   29  ...   8  11   9   6  11   0\n",
              "1.0                210  338  428  384  181  111  ...  23  32  39  53  42   3\n",
              "\n",
              "[2 rows x 33 columns]"
            ]
          },
          "metadata": {
            "tags": []
          },
          "execution_count": 23
        }
      ]
    },
    {
      "cell_type": "code",
      "metadata": {
        "colab": {
          "base_uri": "https://localhost:8080/",
          "height": 142
        },
        "id": "m-_bqiBKg00R",
        "outputId": "0e033199-106e-4996-d0f0-d97df3f0d01c"
      },
      "source": [
        "pd.crosstab(df['card_present_flag'],df['gender'])"
      ],
      "execution_count": 24,
      "outputs": [
        {
          "output_type": "execute_result",
          "data": {
            "text/html": [
              "<div>\n",
              "<style scoped>\n",
              "    .dataframe tbody tr th:only-of-type {\n",
              "        vertical-align: middle;\n",
              "    }\n",
              "\n",
              "    .dataframe tbody tr th {\n",
              "        vertical-align: top;\n",
              "    }\n",
              "\n",
              "    .dataframe thead th {\n",
              "        text-align: right;\n",
              "    }\n",
              "</style>\n",
              "<table border=\"1\" class=\"dataframe\">\n",
              "  <thead>\n",
              "    <tr style=\"text-align: right;\">\n",
              "      <th>gender</th>\n",
              "      <th>F</th>\n",
              "      <th>M</th>\n",
              "    </tr>\n",
              "    <tr>\n",
              "      <th>card_present_flag</th>\n",
              "      <th></th>\n",
              "      <th></th>\n",
              "    </tr>\n",
              "  </thead>\n",
              "  <tbody>\n",
              "    <tr>\n",
              "      <th>0.0</th>\n",
              "      <td>760</td>\n",
              "      <td>763</td>\n",
              "    </tr>\n",
              "    <tr>\n",
              "      <th>1.0</th>\n",
              "      <td>3102</td>\n",
              "      <td>3092</td>\n",
              "    </tr>\n",
              "  </tbody>\n",
              "</table>\n",
              "</div>"
            ],
            "text/plain": [
              "gender                F     M\n",
              "card_present_flag            \n",
              "0.0                 760   763\n",
              "1.0                3102  3092"
            ]
          },
          "metadata": {
            "tags": []
          },
          "execution_count": 24
        }
      ]
    },
    {
      "cell_type": "code",
      "metadata": {
        "colab": {
          "base_uri": "https://localhost:8080/",
          "height": 142
        },
        "id": "FbLeW5tUjvcC",
        "outputId": "a5ee750c-e8f5-4c92-b2cc-2a80efc41daa"
      },
      "source": [
        "pd.crosstab(df['card_present_flag'],df['merchant_state'])"
      ],
      "execution_count": 25,
      "outputs": [
        {
          "output_type": "execute_result",
          "data": {
            "text/html": [
              "<div>\n",
              "<style scoped>\n",
              "    .dataframe tbody tr th:only-of-type {\n",
              "        vertical-align: middle;\n",
              "    }\n",
              "\n",
              "    .dataframe tbody tr th {\n",
              "        vertical-align: top;\n",
              "    }\n",
              "\n",
              "    .dataframe thead th {\n",
              "        text-align: right;\n",
              "    }\n",
              "</style>\n",
              "<table border=\"1\" class=\"dataframe\">\n",
              "  <thead>\n",
              "    <tr style=\"text-align: right;\">\n",
              "      <th>merchant_state</th>\n",
              "      <th>ACT</th>\n",
              "      <th>NSW</th>\n",
              "      <th>NT</th>\n",
              "      <th>QLD</th>\n",
              "      <th>SA</th>\n",
              "      <th>TAS</th>\n",
              "      <th>VIC</th>\n",
              "      <th>WA</th>\n",
              "    </tr>\n",
              "    <tr>\n",
              "      <th>card_present_flag</th>\n",
              "      <th></th>\n",
              "      <th></th>\n",
              "      <th></th>\n",
              "      <th></th>\n",
              "      <th></th>\n",
              "      <th></th>\n",
              "      <th></th>\n",
              "      <th></th>\n",
              "    </tr>\n",
              "  </thead>\n",
              "  <tbody>\n",
              "    <tr>\n",
              "      <th>0.0</th>\n",
              "      <td>9</td>\n",
              "      <td>457</td>\n",
              "      <td>38</td>\n",
              "      <td>290</td>\n",
              "      <td>84</td>\n",
              "      <td>8</td>\n",
              "      <td>412</td>\n",
              "      <td>225</td>\n",
              "    </tr>\n",
              "    <tr>\n",
              "      <th>1.0</th>\n",
              "      <td>64</td>\n",
              "      <td>1712</td>\n",
              "      <td>167</td>\n",
              "      <td>1266</td>\n",
              "      <td>331</td>\n",
              "      <td>60</td>\n",
              "      <td>1719</td>\n",
              "      <td>875</td>\n",
              "    </tr>\n",
              "  </tbody>\n",
              "</table>\n",
              "</div>"
            ],
            "text/plain": [
              "merchant_state     ACT   NSW   NT   QLD   SA  TAS   VIC   WA\n",
              "card_present_flag                                           \n",
              "0.0                  9   457   38   290   84    8   412  225\n",
              "1.0                 64  1712  167  1266  331   60  1719  875"
            ]
          },
          "metadata": {
            "tags": []
          },
          "execution_count": 25
        }
      ]
    },
    {
      "cell_type": "code",
      "metadata": {
        "id": "vveZMBtvj5Ny"
      },
      "source": [
        ""
      ],
      "execution_count": 25,
      "outputs": []
    },
    {
      "cell_type": "markdown",
      "metadata": {
        "id": "SB9jWrSglrLy"
      },
      "source": [
        "Task 2"
      ]
    },
    {
      "cell_type": "code",
      "metadata": {
        "colab": {
          "base_uri": "https://localhost:8080/",
          "height": 479
        },
        "id": "jKSJTA2NlszR",
        "outputId": "9515d5ab-43fb-4ecb-d827-18b0bf1bce7d"
      },
      "source": [
        "df.head()"
      ],
      "execution_count": 26,
      "outputs": [
        {
          "output_type": "execute_result",
          "data": {
            "text/html": [
              "<div>\n",
              "<style scoped>\n",
              "    .dataframe tbody tr th:only-of-type {\n",
              "        vertical-align: middle;\n",
              "    }\n",
              "\n",
              "    .dataframe tbody tr th {\n",
              "        vertical-align: top;\n",
              "    }\n",
              "\n",
              "    .dataframe thead th {\n",
              "        text-align: right;\n",
              "    }\n",
              "</style>\n",
              "<table border=\"1\" class=\"dataframe\">\n",
              "  <thead>\n",
              "    <tr style=\"text-align: right;\">\n",
              "      <th></th>\n",
              "      <th>status</th>\n",
              "      <th>account</th>\n",
              "      <th>currency</th>\n",
              "      <th>long_lat</th>\n",
              "      <th>txn_description</th>\n",
              "      <th>first_name</th>\n",
              "      <th>balance</th>\n",
              "      <th>date</th>\n",
              "      <th>gender</th>\n",
              "      <th>age</th>\n",
              "      <th>extraction</th>\n",
              "      <th>amount</th>\n",
              "      <th>transaction_id</th>\n",
              "      <th>country</th>\n",
              "      <th>customer_id</th>\n",
              "      <th>movement</th>\n",
              "      <th>card_present_flag</th>\n",
              "      <th>merchant_id</th>\n",
              "      <th>merchant_suburb</th>\n",
              "      <th>merchant_state</th>\n",
              "      <th>merchant_long_lat</th>\n",
              "      <th>Count</th>\n",
              "    </tr>\n",
              "  </thead>\n",
              "  <tbody>\n",
              "    <tr>\n",
              "      <th>0</th>\n",
              "      <td>authorized</td>\n",
              "      <td>ACC-1598451071</td>\n",
              "      <td>AUD</td>\n",
              "      <td>153.41 -27.95</td>\n",
              "      <td>POS</td>\n",
              "      <td>Diana</td>\n",
              "      <td>35.39</td>\n",
              "      <td>2018-08-01</td>\n",
              "      <td>F</td>\n",
              "      <td>26</td>\n",
              "      <td>2018-08-01T01:01:15.000+0000</td>\n",
              "      <td>16.25</td>\n",
              "      <td>a623070bfead4541a6b0fff8a09e706c</td>\n",
              "      <td>Australia</td>\n",
              "      <td>CUS-2487424745</td>\n",
              "      <td>debit</td>\n",
              "      <td>1.0</td>\n",
              "      <td>81c48296-73be-44a7-befa-d053f48ce7cd</td>\n",
              "      <td>Ashmore</td>\n",
              "      <td>QLD</td>\n",
              "      <td>153.38 -27.99</td>\n",
              "      <td>1</td>\n",
              "    </tr>\n",
              "    <tr>\n",
              "      <th>1</th>\n",
              "      <td>authorized</td>\n",
              "      <td>ACC-1598451071</td>\n",
              "      <td>AUD</td>\n",
              "      <td>153.41 -27.95</td>\n",
              "      <td>SALES-POS</td>\n",
              "      <td>Diana</td>\n",
              "      <td>21.20</td>\n",
              "      <td>2018-08-01</td>\n",
              "      <td>F</td>\n",
              "      <td>26</td>\n",
              "      <td>2018-08-01T01:13:45.000+0000</td>\n",
              "      <td>14.19</td>\n",
              "      <td>13270a2a902145da9db4c951e04b51b9</td>\n",
              "      <td>Australia</td>\n",
              "      <td>CUS-2487424745</td>\n",
              "      <td>debit</td>\n",
              "      <td>0.0</td>\n",
              "      <td>830a451c-316e-4a6a-bf25-e37caedca49e</td>\n",
              "      <td>Sydney</td>\n",
              "      <td>NSW</td>\n",
              "      <td>151.21 -33.87</td>\n",
              "      <td>1</td>\n",
              "    </tr>\n",
              "    <tr>\n",
              "      <th>2</th>\n",
              "      <td>authorized</td>\n",
              "      <td>ACC-1222300524</td>\n",
              "      <td>AUD</td>\n",
              "      <td>151.23 -33.94</td>\n",
              "      <td>POS</td>\n",
              "      <td>Michael</td>\n",
              "      <td>5.71</td>\n",
              "      <td>2018-08-01</td>\n",
              "      <td>M</td>\n",
              "      <td>38</td>\n",
              "      <td>2018-08-01T01:26:15.000+0000</td>\n",
              "      <td>6.42</td>\n",
              "      <td>feb79e7ecd7048a5a36ec889d1a94270</td>\n",
              "      <td>Australia</td>\n",
              "      <td>CUS-2142601169</td>\n",
              "      <td>debit</td>\n",
              "      <td>1.0</td>\n",
              "      <td>835c231d-8cdf-4e96-859d-e9d571760cf0</td>\n",
              "      <td>Sydney</td>\n",
              "      <td>NSW</td>\n",
              "      <td>151.21 -33.87</td>\n",
              "      <td>1</td>\n",
              "    </tr>\n",
              "    <tr>\n",
              "      <th>3</th>\n",
              "      <td>authorized</td>\n",
              "      <td>ACC-1037050564</td>\n",
              "      <td>AUD</td>\n",
              "      <td>153.10 -27.66</td>\n",
              "      <td>SALES-POS</td>\n",
              "      <td>Rhonda</td>\n",
              "      <td>2117.22</td>\n",
              "      <td>2018-08-01</td>\n",
              "      <td>F</td>\n",
              "      <td>40</td>\n",
              "      <td>2018-08-01T01:38:45.000+0000</td>\n",
              "      <td>40.90</td>\n",
              "      <td>2698170da3704fd981b15e64a006079e</td>\n",
              "      <td>Australia</td>\n",
              "      <td>CUS-1614226872</td>\n",
              "      <td>debit</td>\n",
              "      <td>1.0</td>\n",
              "      <td>48514682-c78a-4a88-b0da-2d6302e64673</td>\n",
              "      <td>Buderim</td>\n",
              "      <td>QLD</td>\n",
              "      <td>153.05 -26.68</td>\n",
              "      <td>1</td>\n",
              "    </tr>\n",
              "    <tr>\n",
              "      <th>4</th>\n",
              "      <td>authorized</td>\n",
              "      <td>ACC-1598451071</td>\n",
              "      <td>AUD</td>\n",
              "      <td>153.41 -27.95</td>\n",
              "      <td>SALES-POS</td>\n",
              "      <td>Diana</td>\n",
              "      <td>17.95</td>\n",
              "      <td>2018-08-01</td>\n",
              "      <td>F</td>\n",
              "      <td>26</td>\n",
              "      <td>2018-08-01T01:51:15.000+0000</td>\n",
              "      <td>3.25</td>\n",
              "      <td>329adf79878c4cf0aeb4188b4691c266</td>\n",
              "      <td>Australia</td>\n",
              "      <td>CUS-2487424745</td>\n",
              "      <td>debit</td>\n",
              "      <td>1.0</td>\n",
              "      <td>b4e02c10-0852-4273-b8fd-7b3395e32eb0</td>\n",
              "      <td>Mermaid Beach</td>\n",
              "      <td>QLD</td>\n",
              "      <td>153.44 -28.06</td>\n",
              "      <td>1</td>\n",
              "    </tr>\n",
              "  </tbody>\n",
              "</table>\n",
              "</div>"
            ],
            "text/plain": [
              "       status         account currency  ... merchant_state merchant_long_lat Count\n",
              "0  authorized  ACC-1598451071      AUD  ...            QLD     153.38 -27.99     1\n",
              "1  authorized  ACC-1598451071      AUD  ...            NSW     151.21 -33.87     1\n",
              "2  authorized  ACC-1222300524      AUD  ...            NSW     151.21 -33.87     1\n",
              "3  authorized  ACC-1037050564      AUD  ...            QLD     153.05 -26.68     1\n",
              "4  authorized  ACC-1598451071      AUD  ...            QLD     153.44 -28.06     1\n",
              "\n",
              "[5 rows x 22 columns]"
            ]
          },
          "metadata": {
            "tags": []
          },
          "execution_count": 26
        }
      ]
    },
    {
      "cell_type": "code",
      "metadata": {
        "id": "rI-aoT9Sl9ps"
      },
      "source": [
        "salary = df[df['txn_description']=='PAY/SALARY']"
      ],
      "execution_count": 27,
      "outputs": []
    },
    {
      "cell_type": "code",
      "metadata": {
        "id": "RQZfkpPsmYzQ"
      },
      "source": [
        "pos = df[(df['txn_description']=='POS') | (df['txn_description']=='SALES-POS')]"
      ],
      "execution_count": 28,
      "outputs": []
    },
    {
      "cell_type": "code",
      "metadata": {
        "colab": {
          "base_uri": "https://localhost:8080/",
          "height": 204
        },
        "id": "zF4ymWiRmntO",
        "outputId": "cb1e5fbe-0f09-42a8-8576-be7c715e7542"
      },
      "source": [
        "diana =salary[salary['first_name']=='Diana']\n",
        "diana[['amount','age','customer_id','first_name','date','balance']].head()"
      ],
      "execution_count": 29,
      "outputs": [
        {
          "output_type": "execute_result",
          "data": {
            "text/html": [
              "<div>\n",
              "<style scoped>\n",
              "    .dataframe tbody tr th:only-of-type {\n",
              "        vertical-align: middle;\n",
              "    }\n",
              "\n",
              "    .dataframe tbody tr th {\n",
              "        vertical-align: top;\n",
              "    }\n",
              "\n",
              "    .dataframe thead th {\n",
              "        text-align: right;\n",
              "    }\n",
              "</style>\n",
              "<table border=\"1\" class=\"dataframe\">\n",
              "  <thead>\n",
              "    <tr style=\"text-align: right;\">\n",
              "      <th></th>\n",
              "      <th>amount</th>\n",
              "      <th>age</th>\n",
              "      <th>customer_id</th>\n",
              "      <th>first_name</th>\n",
              "      <th>date</th>\n",
              "      <th>balance</th>\n",
              "    </tr>\n",
              "  </thead>\n",
              "  <tbody>\n",
              "    <tr>\n",
              "      <th>72</th>\n",
              "      <td>1013.67</td>\n",
              "      <td>26</td>\n",
              "      <td>CUS-2487424745</td>\n",
              "      <td>Diana</td>\n",
              "      <td>2018-08-01</td>\n",
              "      <td>1017.52</td>\n",
              "    </tr>\n",
              "    <tr>\n",
              "      <th>951</th>\n",
              "      <td>1013.67</td>\n",
              "      <td>26</td>\n",
              "      <td>CUS-2487424745</td>\n",
              "      <td>Diana</td>\n",
              "      <td>2018-08-08</td>\n",
              "      <td>1343.65</td>\n",
              "    </tr>\n",
              "    <tr>\n",
              "      <th>1849</th>\n",
              "      <td>1013.67</td>\n",
              "      <td>26</td>\n",
              "      <td>CUS-2487424745</td>\n",
              "      <td>Diana</td>\n",
              "      <td>2018-08-15</td>\n",
              "      <td>1440.22</td>\n",
              "    </tr>\n",
              "    <tr>\n",
              "      <th>2642</th>\n",
              "      <td>1013.67</td>\n",
              "      <td>26</td>\n",
              "      <td>CUS-2487424745</td>\n",
              "      <td>Diana</td>\n",
              "      <td>2018-08-22</td>\n",
              "      <td>1932.06</td>\n",
              "    </tr>\n",
              "    <tr>\n",
              "      <th>3575</th>\n",
              "      <td>1013.67</td>\n",
              "      <td>26</td>\n",
              "      <td>CUS-2487424745</td>\n",
              "      <td>Diana</td>\n",
              "      <td>2018-08-29</td>\n",
              "      <td>2273.97</td>\n",
              "    </tr>\n",
              "  </tbody>\n",
              "</table>\n",
              "</div>"
            ],
            "text/plain": [
              "       amount  age     customer_id first_name       date  balance\n",
              "72    1013.67   26  CUS-2487424745      Diana 2018-08-01  1017.52\n",
              "951   1013.67   26  CUS-2487424745      Diana 2018-08-08  1343.65\n",
              "1849  1013.67   26  CUS-2487424745      Diana 2018-08-15  1440.22\n",
              "2642  1013.67   26  CUS-2487424745      Diana 2018-08-22  1932.06\n",
              "3575  1013.67   26  CUS-2487424745      Diana 2018-08-29  2273.97"
            ]
          },
          "metadata": {
            "tags": []
          },
          "execution_count": 29
        }
      ]
    },
    {
      "cell_type": "code",
      "metadata": {
        "id": "6Xf-vegpwzDb"
      },
      "source": [
        "#cust = pd.DataFrame()"
      ],
      "execution_count": 30,
      "outputs": []
    },
    {
      "cell_type": "code",
      "metadata": {
        "id": "5L5be5d3m6b9"
      },
      "source": [
        "def groupby(data, columns):\n",
        "    return data.groupby(columns).size().to_frame('count').reset_index()"
      ],
      "execution_count": 31,
      "outputs": []
    },
    {
      "cell_type": "code",
      "metadata": {
        "id": "AxFH8LczyZjb"
      },
      "source": [
        "cust = groupby(salary,'customer_id')"
      ],
      "execution_count": 32,
      "outputs": []
    },
    {
      "cell_type": "code",
      "metadata": {
        "colab": {
          "base_uri": "https://localhost:8080/",
          "height": 204
        },
        "id": "yLYc-PZWxYQW",
        "outputId": "faea3ca3-d096-44d4-e1d2-7eb8437dc8c0"
      },
      "source": [
        "cust.head()"
      ],
      "execution_count": 33,
      "outputs": [
        {
          "output_type": "execute_result",
          "data": {
            "text/html": [
              "<div>\n",
              "<style scoped>\n",
              "    .dataframe tbody tr th:only-of-type {\n",
              "        vertical-align: middle;\n",
              "    }\n",
              "\n",
              "    .dataframe tbody tr th {\n",
              "        vertical-align: top;\n",
              "    }\n",
              "\n",
              "    .dataframe thead th {\n",
              "        text-align: right;\n",
              "    }\n",
              "</style>\n",
              "<table border=\"1\" class=\"dataframe\">\n",
              "  <thead>\n",
              "    <tr style=\"text-align: right;\">\n",
              "      <th></th>\n",
              "      <th>customer_id</th>\n",
              "      <th>count</th>\n",
              "    </tr>\n",
              "  </thead>\n",
              "  <tbody>\n",
              "    <tr>\n",
              "      <th>0</th>\n",
              "      <td>CUS-1005756958</td>\n",
              "      <td>13</td>\n",
              "    </tr>\n",
              "    <tr>\n",
              "      <th>1</th>\n",
              "      <td>CUS-1117979751</td>\n",
              "      <td>7</td>\n",
              "    </tr>\n",
              "    <tr>\n",
              "      <th>2</th>\n",
              "      <td>CUS-1140341822</td>\n",
              "      <td>6</td>\n",
              "    </tr>\n",
              "    <tr>\n",
              "      <th>3</th>\n",
              "      <td>CUS-1147642491</td>\n",
              "      <td>13</td>\n",
              "    </tr>\n",
              "    <tr>\n",
              "      <th>4</th>\n",
              "      <td>CUS-1196156254</td>\n",
              "      <td>7</td>\n",
              "    </tr>\n",
              "  </tbody>\n",
              "</table>\n",
              "</div>"
            ],
            "text/plain": [
              "      customer_id  count\n",
              "0  CUS-1005756958     13\n",
              "1  CUS-1117979751      7\n",
              "2  CUS-1140341822      6\n",
              "3  CUS-1147642491     13\n",
              "4  CUS-1196156254      7"
            ]
          },
          "metadata": {
            "tags": []
          },
          "execution_count": 33
        }
      ]
    },
    {
      "cell_type": "code",
      "metadata": {
        "id": "2BmZAUzJnZ6J"
      },
      "source": [
        "total_salary = []\n",
        "for i in cust['customer_id']:\n",
        "  x = salary[salary['customer_id']==i]\n",
        "  total_salary.append(x[['amount','age','customer_id','first_name','date','balance']]['amount'].values.sum())\n",
        "total_salary=np.array(total_salary)"
      ],
      "execution_count": 34,
      "outputs": []
    },
    {
      "cell_type": "code",
      "metadata": {
        "colab": {
          "base_uri": "https://localhost:8080/"
        },
        "id": "DiLDUA6puFhj",
        "outputId": "979e6f40-b027-4b9c-d642-39fa7fbcf191"
      },
      "source": [
        "total_salary"
      ],
      "execution_count": 35,
      "outputs": [
        {
          "output_type": "execute_result",
          "data": {
            "text/plain": [
              "array([12616.11, 25050.55, 11499.06, 22248.07, 27326.11, 15976.52,\n",
              "        7155.96, 16214.1 , 14804.27, 14165.76, 26500.46, 14603.68,\n",
              "        9856.56, 27327.65, 21897.06, 14822.7 , 15000.  , 17128.44,\n",
              "       11597.17, 23301.39, 19536.86,  9389.04, 15384.74,  7488.  ,\n",
              "       15929.29,  9727.24, 21497.98, 35343.92,  9897.29, 17324.04,\n",
              "       13852.02, 17397.59, 29644.68, 20282.6 , 17319.12, 12107.8 ,\n",
              "       13027.69, 31762.12, 12214.46,  9246.72, 13312.38, 18478.32,\n",
              "       12609.06, 13079.76, 25517.55,  9844.98, 14191.38, 22770.72,\n",
              "       25305.41,  9782.16, 30837.1 , 11048.52, 11218.35, 24328.62,\n",
              "       13921.8 , 11926.85, 33081.88, 22618.82, 10058.86, 19881.05,\n",
              "       16311.06, 12951.12, 33644.13, 12304.74, 22061.64, 18150.99,\n",
              "       11001.  , 24452.35, 16146.41,  8637.59, 13767.04, 11058.84,\n",
              "       14296.1 , 28925.61, 13777.92, 10546.86, 11573.82, 19170.06,\n",
              "        9226.08, 16542.11, 10089.48, 16127.1 , 17770.76, 14952.56,\n",
              "       24623.27, 11137.68, 12877.15, 18531.66,  9821.8 , 12775.23,\n",
              "       12048.98, 29512.28, 18010.37, 21277.36, 11713.74,  8703.84,\n",
              "       13481.91, 10851.72,  8603.88, 27842.22])"
            ]
          },
          "metadata": {
            "tags": []
          },
          "execution_count": 35
        }
      ]
    },
    {
      "cell_type": "code",
      "metadata": {
        "id": "ZwEP2U9uuOA5"
      },
      "source": [
        "cust['Total Salary'] = total_salary"
      ],
      "execution_count": 36,
      "outputs": []
    },
    {
      "cell_type": "code",
      "metadata": {
        "colab": {
          "base_uri": "https://localhost:8080/",
          "height": 204
        },
        "id": "WuId0JNfyx6Q",
        "outputId": "f02aa736-ac33-49cc-deab-cc7ced952f83"
      },
      "source": [
        "cust.head()"
      ],
      "execution_count": 37,
      "outputs": [
        {
          "output_type": "execute_result",
          "data": {
            "text/html": [
              "<div>\n",
              "<style scoped>\n",
              "    .dataframe tbody tr th:only-of-type {\n",
              "        vertical-align: middle;\n",
              "    }\n",
              "\n",
              "    .dataframe tbody tr th {\n",
              "        vertical-align: top;\n",
              "    }\n",
              "\n",
              "    .dataframe thead th {\n",
              "        text-align: right;\n",
              "    }\n",
              "</style>\n",
              "<table border=\"1\" class=\"dataframe\">\n",
              "  <thead>\n",
              "    <tr style=\"text-align: right;\">\n",
              "      <th></th>\n",
              "      <th>customer_id</th>\n",
              "      <th>count</th>\n",
              "      <th>Total Salary</th>\n",
              "    </tr>\n",
              "  </thead>\n",
              "  <tbody>\n",
              "    <tr>\n",
              "      <th>0</th>\n",
              "      <td>CUS-1005756958</td>\n",
              "      <td>13</td>\n",
              "      <td>12616.11</td>\n",
              "    </tr>\n",
              "    <tr>\n",
              "      <th>1</th>\n",
              "      <td>CUS-1117979751</td>\n",
              "      <td>7</td>\n",
              "      <td>25050.55</td>\n",
              "    </tr>\n",
              "    <tr>\n",
              "      <th>2</th>\n",
              "      <td>CUS-1140341822</td>\n",
              "      <td>6</td>\n",
              "      <td>11499.06</td>\n",
              "    </tr>\n",
              "    <tr>\n",
              "      <th>3</th>\n",
              "      <td>CUS-1147642491</td>\n",
              "      <td>13</td>\n",
              "      <td>22248.07</td>\n",
              "    </tr>\n",
              "    <tr>\n",
              "      <th>4</th>\n",
              "      <td>CUS-1196156254</td>\n",
              "      <td>7</td>\n",
              "      <td>27326.11</td>\n",
              "    </tr>\n",
              "  </tbody>\n",
              "</table>\n",
              "</div>"
            ],
            "text/plain": [
              "      customer_id  count  Total Salary\n",
              "0  CUS-1005756958     13      12616.11\n",
              "1  CUS-1117979751      7      25050.55\n",
              "2  CUS-1140341822      6      11499.06\n",
              "3  CUS-1147642491     13      22248.07\n",
              "4  CUS-1196156254      7      27326.11"
            ]
          },
          "metadata": {
            "tags": []
          },
          "execution_count": 37
        }
      ]
    },
    {
      "cell_type": "code",
      "metadata": {
        "colab": {
          "base_uri": "https://localhost:8080/",
          "height": 204
        },
        "id": "9-kzD9evzbLn",
        "outputId": "c99bd33f-082f-42ae-e185-7e79a11a3ed0"
      },
      "source": [
        "total_balance = []\n",
        "for i in cust['customer_id']:\n",
        "  x = salary[salary['customer_id']==i]\n",
        "  total_balance.append(x[['amount','age','customer_id','first_name','date','balance']]['balance'].values.sum())\n",
        "total_balance=np.array(total_balance)\n",
        "cust['Total Balance'] = total_balance\n",
        "cust.head()"
      ],
      "execution_count": 38,
      "outputs": [
        {
          "output_type": "execute_result",
          "data": {
            "text/html": [
              "<div>\n",
              "<style scoped>\n",
              "    .dataframe tbody tr th:only-of-type {\n",
              "        vertical-align: middle;\n",
              "    }\n",
              "\n",
              "    .dataframe tbody tr th {\n",
              "        vertical-align: top;\n",
              "    }\n",
              "\n",
              "    .dataframe thead th {\n",
              "        text-align: right;\n",
              "    }\n",
              "</style>\n",
              "<table border=\"1\" class=\"dataframe\">\n",
              "  <thead>\n",
              "    <tr style=\"text-align: right;\">\n",
              "      <th></th>\n",
              "      <th>customer_id</th>\n",
              "      <th>count</th>\n",
              "      <th>Total Salary</th>\n",
              "      <th>Total Balance</th>\n",
              "    </tr>\n",
              "  </thead>\n",
              "  <tbody>\n",
              "    <tr>\n",
              "      <th>0</th>\n",
              "      <td>CUS-1005756958</td>\n",
              "      <td>13</td>\n",
              "      <td>12616.11</td>\n",
              "      <td>61342.65</td>\n",
              "    </tr>\n",
              "    <tr>\n",
              "      <th>1</th>\n",
              "      <td>CUS-1117979751</td>\n",
              "      <td>7</td>\n",
              "      <td>25050.55</td>\n",
              "      <td>83700.42</td>\n",
              "    </tr>\n",
              "    <tr>\n",
              "      <th>2</th>\n",
              "      <td>CUS-1140341822</td>\n",
              "      <td>6</td>\n",
              "      <td>11499.06</td>\n",
              "      <td>35050.32</td>\n",
              "    </tr>\n",
              "    <tr>\n",
              "      <th>3</th>\n",
              "      <td>CUS-1147642491</td>\n",
              "      <td>13</td>\n",
              "      <td>22248.07</td>\n",
              "      <td>114575.08</td>\n",
              "    </tr>\n",
              "    <tr>\n",
              "      <th>4</th>\n",
              "      <td>CUS-1196156254</td>\n",
              "      <td>7</td>\n",
              "      <td>27326.11</td>\n",
              "      <td>166920.02</td>\n",
              "    </tr>\n",
              "  </tbody>\n",
              "</table>\n",
              "</div>"
            ],
            "text/plain": [
              "      customer_id  count  Total Salary  Total Balance\n",
              "0  CUS-1005756958     13      12616.11       61342.65\n",
              "1  CUS-1117979751      7      25050.55       83700.42\n",
              "2  CUS-1140341822      6      11499.06       35050.32\n",
              "3  CUS-1147642491     13      22248.07      114575.08\n",
              "4  CUS-1196156254      7      27326.11      166920.02"
            ]
          },
          "metadata": {
            "tags": []
          },
          "execution_count": 38
        }
      ]
    },
    {
      "cell_type": "code",
      "metadata": {
        "colab": {
          "base_uri": "https://localhost:8080/",
          "height": 204
        },
        "id": "asKajgcY01vi",
        "outputId": "981c7c2a-7526-4f33-c579-860ab676991f"
      },
      "source": [
        "total_spending =[]\n",
        "for i in cust['customer_id'].values:\n",
        "  spending = pos[pos['customer_id']==i]\n",
        "  total_spending.append(spending['amount'].values.sum())\n",
        "total_spending = np.array(total_spending)\n",
        "cust['Total Spending'] = total_spending\n",
        "cust.head()"
      ],
      "execution_count": 39,
      "outputs": [
        {
          "output_type": "execute_result",
          "data": {
            "text/html": [
              "<div>\n",
              "<style scoped>\n",
              "    .dataframe tbody tr th:only-of-type {\n",
              "        vertical-align: middle;\n",
              "    }\n",
              "\n",
              "    .dataframe tbody tr th {\n",
              "        vertical-align: top;\n",
              "    }\n",
              "\n",
              "    .dataframe thead th {\n",
              "        text-align: right;\n",
              "    }\n",
              "</style>\n",
              "<table border=\"1\" class=\"dataframe\">\n",
              "  <thead>\n",
              "    <tr style=\"text-align: right;\">\n",
              "      <th></th>\n",
              "      <th>customer_id</th>\n",
              "      <th>count</th>\n",
              "      <th>Total Salary</th>\n",
              "      <th>Total Balance</th>\n",
              "      <th>Total Spending</th>\n",
              "    </tr>\n",
              "  </thead>\n",
              "  <tbody>\n",
              "    <tr>\n",
              "      <th>0</th>\n",
              "      <td>CUS-1005756958</td>\n",
              "      <td>13</td>\n",
              "      <td>12616.11</td>\n",
              "      <td>61342.65</td>\n",
              "      <td>1810.86</td>\n",
              "    </tr>\n",
              "    <tr>\n",
              "      <th>1</th>\n",
              "      <td>CUS-1117979751</td>\n",
              "      <td>7</td>\n",
              "      <td>25050.55</td>\n",
              "      <td>83700.42</td>\n",
              "      <td>3975.82</td>\n",
              "    </tr>\n",
              "    <tr>\n",
              "      <th>2</th>\n",
              "      <td>CUS-1140341822</td>\n",
              "      <td>6</td>\n",
              "      <td>11499.06</td>\n",
              "      <td>35050.32</td>\n",
              "      <td>4389.54</td>\n",
              "    </tr>\n",
              "    <tr>\n",
              "      <th>3</th>\n",
              "      <td>CUS-1147642491</td>\n",
              "      <td>13</td>\n",
              "      <td>22248.07</td>\n",
              "      <td>114575.08</td>\n",
              "      <td>3885.75</td>\n",
              "    </tr>\n",
              "    <tr>\n",
              "      <th>4</th>\n",
              "      <td>CUS-1196156254</td>\n",
              "      <td>7</td>\n",
              "      <td>27326.11</td>\n",
              "      <td>166920.02</td>\n",
              "      <td>4940.61</td>\n",
              "    </tr>\n",
              "  </tbody>\n",
              "</table>\n",
              "</div>"
            ],
            "text/plain": [
              "      customer_id  count  Total Salary  Total Balance  Total Spending\n",
              "0  CUS-1005756958     13      12616.11       61342.65         1810.86\n",
              "1  CUS-1117979751      7      25050.55       83700.42         3975.82\n",
              "2  CUS-1140341822      6      11499.06       35050.32         4389.54\n",
              "3  CUS-1147642491     13      22248.07      114575.08         3885.75\n",
              "4  CUS-1196156254      7      27326.11      166920.02         4940.61"
            ]
          },
          "metadata": {
            "tags": []
          },
          "execution_count": 39
        }
      ]
    },
    {
      "cell_type": "code",
      "metadata": {
        "id": "ejMN7Anp2h1v"
      },
      "source": [
        "data = pd.merge(df,cust, on = 'customer_id', how = 'left')"
      ],
      "execution_count": 40,
      "outputs": []
    },
    {
      "cell_type": "code",
      "metadata": {
        "colab": {
          "base_uri": "https://localhost:8080/",
          "height": 496
        },
        "id": "kqIIx3Pi223F",
        "outputId": "2ec3b1e2-54b4-4ec7-c54a-fcb3e3768c23"
      },
      "source": [
        "data.head()"
      ],
      "execution_count": 41,
      "outputs": [
        {
          "output_type": "execute_result",
          "data": {
            "text/html": [
              "<div>\n",
              "<style scoped>\n",
              "    .dataframe tbody tr th:only-of-type {\n",
              "        vertical-align: middle;\n",
              "    }\n",
              "\n",
              "    .dataframe tbody tr th {\n",
              "        vertical-align: top;\n",
              "    }\n",
              "\n",
              "    .dataframe thead th {\n",
              "        text-align: right;\n",
              "    }\n",
              "</style>\n",
              "<table border=\"1\" class=\"dataframe\">\n",
              "  <thead>\n",
              "    <tr style=\"text-align: right;\">\n",
              "      <th></th>\n",
              "      <th>status</th>\n",
              "      <th>account</th>\n",
              "      <th>currency</th>\n",
              "      <th>long_lat</th>\n",
              "      <th>txn_description</th>\n",
              "      <th>first_name</th>\n",
              "      <th>balance</th>\n",
              "      <th>date</th>\n",
              "      <th>gender</th>\n",
              "      <th>age</th>\n",
              "      <th>extraction</th>\n",
              "      <th>amount</th>\n",
              "      <th>transaction_id</th>\n",
              "      <th>country</th>\n",
              "      <th>customer_id</th>\n",
              "      <th>movement</th>\n",
              "      <th>card_present_flag</th>\n",
              "      <th>merchant_id</th>\n",
              "      <th>merchant_suburb</th>\n",
              "      <th>merchant_state</th>\n",
              "      <th>merchant_long_lat</th>\n",
              "      <th>Count</th>\n",
              "      <th>count</th>\n",
              "      <th>Total Salary</th>\n",
              "      <th>Total Balance</th>\n",
              "      <th>Total Spending</th>\n",
              "    </tr>\n",
              "  </thead>\n",
              "  <tbody>\n",
              "    <tr>\n",
              "      <th>0</th>\n",
              "      <td>authorized</td>\n",
              "      <td>ACC-1598451071</td>\n",
              "      <td>AUD</td>\n",
              "      <td>153.41 -27.95</td>\n",
              "      <td>POS</td>\n",
              "      <td>Diana</td>\n",
              "      <td>35.39</td>\n",
              "      <td>2018-08-01</td>\n",
              "      <td>F</td>\n",
              "      <td>26</td>\n",
              "      <td>2018-08-01T01:01:15.000+0000</td>\n",
              "      <td>16.25</td>\n",
              "      <td>a623070bfead4541a6b0fff8a09e706c</td>\n",
              "      <td>Australia</td>\n",
              "      <td>CUS-2487424745</td>\n",
              "      <td>debit</td>\n",
              "      <td>1.0</td>\n",
              "      <td>81c48296-73be-44a7-befa-d053f48ce7cd</td>\n",
              "      <td>Ashmore</td>\n",
              "      <td>QLD</td>\n",
              "      <td>153.38 -27.99</td>\n",
              "      <td>1</td>\n",
              "      <td>14</td>\n",
              "      <td>14191.38</td>\n",
              "      <td>29963.79</td>\n",
              "      <td>9819.21</td>\n",
              "    </tr>\n",
              "    <tr>\n",
              "      <th>1</th>\n",
              "      <td>authorized</td>\n",
              "      <td>ACC-1598451071</td>\n",
              "      <td>AUD</td>\n",
              "      <td>153.41 -27.95</td>\n",
              "      <td>SALES-POS</td>\n",
              "      <td>Diana</td>\n",
              "      <td>21.20</td>\n",
              "      <td>2018-08-01</td>\n",
              "      <td>F</td>\n",
              "      <td>26</td>\n",
              "      <td>2018-08-01T01:13:45.000+0000</td>\n",
              "      <td>14.19</td>\n",
              "      <td>13270a2a902145da9db4c951e04b51b9</td>\n",
              "      <td>Australia</td>\n",
              "      <td>CUS-2487424745</td>\n",
              "      <td>debit</td>\n",
              "      <td>0.0</td>\n",
              "      <td>830a451c-316e-4a6a-bf25-e37caedca49e</td>\n",
              "      <td>Sydney</td>\n",
              "      <td>NSW</td>\n",
              "      <td>151.21 -33.87</td>\n",
              "      <td>1</td>\n",
              "      <td>14</td>\n",
              "      <td>14191.38</td>\n",
              "      <td>29963.79</td>\n",
              "      <td>9819.21</td>\n",
              "    </tr>\n",
              "    <tr>\n",
              "      <th>2</th>\n",
              "      <td>authorized</td>\n",
              "      <td>ACC-1222300524</td>\n",
              "      <td>AUD</td>\n",
              "      <td>151.23 -33.94</td>\n",
              "      <td>POS</td>\n",
              "      <td>Michael</td>\n",
              "      <td>5.71</td>\n",
              "      <td>2018-08-01</td>\n",
              "      <td>M</td>\n",
              "      <td>38</td>\n",
              "      <td>2018-08-01T01:26:15.000+0000</td>\n",
              "      <td>6.42</td>\n",
              "      <td>feb79e7ecd7048a5a36ec889d1a94270</td>\n",
              "      <td>Australia</td>\n",
              "      <td>CUS-2142601169</td>\n",
              "      <td>debit</td>\n",
              "      <td>1.0</td>\n",
              "      <td>835c231d-8cdf-4e96-859d-e9d571760cf0</td>\n",
              "      <td>Sydney</td>\n",
              "      <td>NSW</td>\n",
              "      <td>151.21 -33.87</td>\n",
              "      <td>1</td>\n",
              "      <td>13</td>\n",
              "      <td>13027.69</td>\n",
              "      <td>22826.60</td>\n",
              "      <td>9685.76</td>\n",
              "    </tr>\n",
              "    <tr>\n",
              "      <th>3</th>\n",
              "      <td>authorized</td>\n",
              "      <td>ACC-1037050564</td>\n",
              "      <td>AUD</td>\n",
              "      <td>153.10 -27.66</td>\n",
              "      <td>SALES-POS</td>\n",
              "      <td>Rhonda</td>\n",
              "      <td>2117.22</td>\n",
              "      <td>2018-08-01</td>\n",
              "      <td>F</td>\n",
              "      <td>40</td>\n",
              "      <td>2018-08-01T01:38:45.000+0000</td>\n",
              "      <td>40.90</td>\n",
              "      <td>2698170da3704fd981b15e64a006079e</td>\n",
              "      <td>Australia</td>\n",
              "      <td>CUS-1614226872</td>\n",
              "      <td>debit</td>\n",
              "      <td>1.0</td>\n",
              "      <td>48514682-c78a-4a88-b0da-2d6302e64673</td>\n",
              "      <td>Buderim</td>\n",
              "      <td>QLD</td>\n",
              "      <td>153.05 -26.68</td>\n",
              "      <td>1</td>\n",
              "      <td>13</td>\n",
              "      <td>11597.17</td>\n",
              "      <td>51472.20</td>\n",
              "      <td>6845.27</td>\n",
              "    </tr>\n",
              "    <tr>\n",
              "      <th>4</th>\n",
              "      <td>authorized</td>\n",
              "      <td>ACC-1598451071</td>\n",
              "      <td>AUD</td>\n",
              "      <td>153.41 -27.95</td>\n",
              "      <td>SALES-POS</td>\n",
              "      <td>Diana</td>\n",
              "      <td>17.95</td>\n",
              "      <td>2018-08-01</td>\n",
              "      <td>F</td>\n",
              "      <td>26</td>\n",
              "      <td>2018-08-01T01:51:15.000+0000</td>\n",
              "      <td>3.25</td>\n",
              "      <td>329adf79878c4cf0aeb4188b4691c266</td>\n",
              "      <td>Australia</td>\n",
              "      <td>CUS-2487424745</td>\n",
              "      <td>debit</td>\n",
              "      <td>1.0</td>\n",
              "      <td>b4e02c10-0852-4273-b8fd-7b3395e32eb0</td>\n",
              "      <td>Mermaid Beach</td>\n",
              "      <td>QLD</td>\n",
              "      <td>153.44 -28.06</td>\n",
              "      <td>1</td>\n",
              "      <td>14</td>\n",
              "      <td>14191.38</td>\n",
              "      <td>29963.79</td>\n",
              "      <td>9819.21</td>\n",
              "    </tr>\n",
              "  </tbody>\n",
              "</table>\n",
              "</div>"
            ],
            "text/plain": [
              "       status         account  ... Total Balance Total Spending\n",
              "0  authorized  ACC-1598451071  ...      29963.79        9819.21\n",
              "1  authorized  ACC-1598451071  ...      29963.79        9819.21\n",
              "2  authorized  ACC-1222300524  ...      22826.60        9685.76\n",
              "3  authorized  ACC-1037050564  ...      51472.20        6845.27\n",
              "4  authorized  ACC-1598451071  ...      29963.79        9819.21\n",
              "\n",
              "[5 rows x 26 columns]"
            ]
          },
          "metadata": {
            "tags": []
          },
          "execution_count": 41
        }
      ]
    },
    {
      "cell_type": "code",
      "metadata": {
        "id": "njqa2ISf3aQF"
      },
      "source": [
        "data.to_excel('ANZ_Task1.xlsx')\n",
        "!cp ANZ_Task1.xlsx \"drive/My Drive/\""
      ],
      "execution_count": 42,
      "outputs": []
    },
    {
      "cell_type": "code",
      "metadata": {
        "colab": {
          "base_uri": "https://localhost:8080/",
          "height": 496
        },
        "id": "m3-mZKfs7-Td",
        "outputId": "84db179e-930d-4c52-ffd3-68bf656c5c0e"
      },
      "source": [
        "data.head()"
      ],
      "execution_count": 43,
      "outputs": [
        {
          "output_type": "execute_result",
          "data": {
            "text/html": [
              "<div>\n",
              "<style scoped>\n",
              "    .dataframe tbody tr th:only-of-type {\n",
              "        vertical-align: middle;\n",
              "    }\n",
              "\n",
              "    .dataframe tbody tr th {\n",
              "        vertical-align: top;\n",
              "    }\n",
              "\n",
              "    .dataframe thead th {\n",
              "        text-align: right;\n",
              "    }\n",
              "</style>\n",
              "<table border=\"1\" class=\"dataframe\">\n",
              "  <thead>\n",
              "    <tr style=\"text-align: right;\">\n",
              "      <th></th>\n",
              "      <th>status</th>\n",
              "      <th>account</th>\n",
              "      <th>currency</th>\n",
              "      <th>long_lat</th>\n",
              "      <th>txn_description</th>\n",
              "      <th>first_name</th>\n",
              "      <th>balance</th>\n",
              "      <th>date</th>\n",
              "      <th>gender</th>\n",
              "      <th>age</th>\n",
              "      <th>extraction</th>\n",
              "      <th>amount</th>\n",
              "      <th>transaction_id</th>\n",
              "      <th>country</th>\n",
              "      <th>customer_id</th>\n",
              "      <th>movement</th>\n",
              "      <th>card_present_flag</th>\n",
              "      <th>merchant_id</th>\n",
              "      <th>merchant_suburb</th>\n",
              "      <th>merchant_state</th>\n",
              "      <th>merchant_long_lat</th>\n",
              "      <th>Count</th>\n",
              "      <th>count</th>\n",
              "      <th>Total Salary</th>\n",
              "      <th>Total Balance</th>\n",
              "      <th>Total Spending</th>\n",
              "    </tr>\n",
              "  </thead>\n",
              "  <tbody>\n",
              "    <tr>\n",
              "      <th>0</th>\n",
              "      <td>authorized</td>\n",
              "      <td>ACC-1598451071</td>\n",
              "      <td>AUD</td>\n",
              "      <td>153.41 -27.95</td>\n",
              "      <td>POS</td>\n",
              "      <td>Diana</td>\n",
              "      <td>35.39</td>\n",
              "      <td>2018-08-01</td>\n",
              "      <td>F</td>\n",
              "      <td>26</td>\n",
              "      <td>2018-08-01T01:01:15.000+0000</td>\n",
              "      <td>16.25</td>\n",
              "      <td>a623070bfead4541a6b0fff8a09e706c</td>\n",
              "      <td>Australia</td>\n",
              "      <td>CUS-2487424745</td>\n",
              "      <td>debit</td>\n",
              "      <td>1.0</td>\n",
              "      <td>81c48296-73be-44a7-befa-d053f48ce7cd</td>\n",
              "      <td>Ashmore</td>\n",
              "      <td>QLD</td>\n",
              "      <td>153.38 -27.99</td>\n",
              "      <td>1</td>\n",
              "      <td>14</td>\n",
              "      <td>14191.38</td>\n",
              "      <td>29963.79</td>\n",
              "      <td>9819.21</td>\n",
              "    </tr>\n",
              "    <tr>\n",
              "      <th>1</th>\n",
              "      <td>authorized</td>\n",
              "      <td>ACC-1598451071</td>\n",
              "      <td>AUD</td>\n",
              "      <td>153.41 -27.95</td>\n",
              "      <td>SALES-POS</td>\n",
              "      <td>Diana</td>\n",
              "      <td>21.20</td>\n",
              "      <td>2018-08-01</td>\n",
              "      <td>F</td>\n",
              "      <td>26</td>\n",
              "      <td>2018-08-01T01:13:45.000+0000</td>\n",
              "      <td>14.19</td>\n",
              "      <td>13270a2a902145da9db4c951e04b51b9</td>\n",
              "      <td>Australia</td>\n",
              "      <td>CUS-2487424745</td>\n",
              "      <td>debit</td>\n",
              "      <td>0.0</td>\n",
              "      <td>830a451c-316e-4a6a-bf25-e37caedca49e</td>\n",
              "      <td>Sydney</td>\n",
              "      <td>NSW</td>\n",
              "      <td>151.21 -33.87</td>\n",
              "      <td>1</td>\n",
              "      <td>14</td>\n",
              "      <td>14191.38</td>\n",
              "      <td>29963.79</td>\n",
              "      <td>9819.21</td>\n",
              "    </tr>\n",
              "    <tr>\n",
              "      <th>2</th>\n",
              "      <td>authorized</td>\n",
              "      <td>ACC-1222300524</td>\n",
              "      <td>AUD</td>\n",
              "      <td>151.23 -33.94</td>\n",
              "      <td>POS</td>\n",
              "      <td>Michael</td>\n",
              "      <td>5.71</td>\n",
              "      <td>2018-08-01</td>\n",
              "      <td>M</td>\n",
              "      <td>38</td>\n",
              "      <td>2018-08-01T01:26:15.000+0000</td>\n",
              "      <td>6.42</td>\n",
              "      <td>feb79e7ecd7048a5a36ec889d1a94270</td>\n",
              "      <td>Australia</td>\n",
              "      <td>CUS-2142601169</td>\n",
              "      <td>debit</td>\n",
              "      <td>1.0</td>\n",
              "      <td>835c231d-8cdf-4e96-859d-e9d571760cf0</td>\n",
              "      <td>Sydney</td>\n",
              "      <td>NSW</td>\n",
              "      <td>151.21 -33.87</td>\n",
              "      <td>1</td>\n",
              "      <td>13</td>\n",
              "      <td>13027.69</td>\n",
              "      <td>22826.60</td>\n",
              "      <td>9685.76</td>\n",
              "    </tr>\n",
              "    <tr>\n",
              "      <th>3</th>\n",
              "      <td>authorized</td>\n",
              "      <td>ACC-1037050564</td>\n",
              "      <td>AUD</td>\n",
              "      <td>153.10 -27.66</td>\n",
              "      <td>SALES-POS</td>\n",
              "      <td>Rhonda</td>\n",
              "      <td>2117.22</td>\n",
              "      <td>2018-08-01</td>\n",
              "      <td>F</td>\n",
              "      <td>40</td>\n",
              "      <td>2018-08-01T01:38:45.000+0000</td>\n",
              "      <td>40.90</td>\n",
              "      <td>2698170da3704fd981b15e64a006079e</td>\n",
              "      <td>Australia</td>\n",
              "      <td>CUS-1614226872</td>\n",
              "      <td>debit</td>\n",
              "      <td>1.0</td>\n",
              "      <td>48514682-c78a-4a88-b0da-2d6302e64673</td>\n",
              "      <td>Buderim</td>\n",
              "      <td>QLD</td>\n",
              "      <td>153.05 -26.68</td>\n",
              "      <td>1</td>\n",
              "      <td>13</td>\n",
              "      <td>11597.17</td>\n",
              "      <td>51472.20</td>\n",
              "      <td>6845.27</td>\n",
              "    </tr>\n",
              "    <tr>\n",
              "      <th>4</th>\n",
              "      <td>authorized</td>\n",
              "      <td>ACC-1598451071</td>\n",
              "      <td>AUD</td>\n",
              "      <td>153.41 -27.95</td>\n",
              "      <td>SALES-POS</td>\n",
              "      <td>Diana</td>\n",
              "      <td>17.95</td>\n",
              "      <td>2018-08-01</td>\n",
              "      <td>F</td>\n",
              "      <td>26</td>\n",
              "      <td>2018-08-01T01:51:15.000+0000</td>\n",
              "      <td>3.25</td>\n",
              "      <td>329adf79878c4cf0aeb4188b4691c266</td>\n",
              "      <td>Australia</td>\n",
              "      <td>CUS-2487424745</td>\n",
              "      <td>debit</td>\n",
              "      <td>1.0</td>\n",
              "      <td>b4e02c10-0852-4273-b8fd-7b3395e32eb0</td>\n",
              "      <td>Mermaid Beach</td>\n",
              "      <td>QLD</td>\n",
              "      <td>153.44 -28.06</td>\n",
              "      <td>1</td>\n",
              "      <td>14</td>\n",
              "      <td>14191.38</td>\n",
              "      <td>29963.79</td>\n",
              "      <td>9819.21</td>\n",
              "    </tr>\n",
              "  </tbody>\n",
              "</table>\n",
              "</div>"
            ],
            "text/plain": [
              "       status         account  ... Total Balance Total Spending\n",
              "0  authorized  ACC-1598451071  ...      29963.79        9819.21\n",
              "1  authorized  ACC-1598451071  ...      29963.79        9819.21\n",
              "2  authorized  ACC-1222300524  ...      22826.60        9685.76\n",
              "3  authorized  ACC-1037050564  ...      51472.20        6845.27\n",
              "4  authorized  ACC-1598451071  ...      29963.79        9819.21\n",
              "\n",
              "[5 rows x 26 columns]"
            ]
          },
          "metadata": {
            "tags": []
          },
          "execution_count": 43
        }
      ]
    },
    {
      "cell_type": "code",
      "metadata": {
        "id": "Lh4ZAWCgZNUz"
      },
      "source": [
        "data = data[['status', 'account', 'currency', 'long_lat', 'txn_description',\n",
        "       'first_name', 'balance', 'date', 'gender', 'age', 'extraction',\n",
        "       'amount', 'transaction_id', 'country', 'customer_id', 'movement',\n",
        "       'card_present_flag', 'merchant_id', 'merchant_suburb', 'merchant_state',\n",
        "       'merchant_long_lat', 'Count', 'count', 'Total Salary', 'Total Balance',\n",
        "       'Total Spending']]"
      ],
      "execution_count": 44,
      "outputs": []
    },
    {
      "cell_type": "code",
      "metadata": {
        "id": "8sqWOCZRZSeH"
      },
      "source": [
        ""
      ],
      "execution_count": 44,
      "outputs": []
    },
    {
      "cell_type": "code",
      "metadata": {
        "id": "ZOa1TkAPbVJj"
      },
      "source": [
        "from sklearn.preprocessing import MinMaxScaler\n",
        "scaler = MinMaxScaler(feature_range = (0,70))\n",
        "x = scaler.fit_transform(data['Total Salary'].values.reshape(-1,1))"
      ],
      "execution_count": 45,
      "outputs": []
    },
    {
      "cell_type": "code",
      "metadata": {
        "id": "CbvseE7acHhf"
      },
      "source": [
        "from sklearn.preprocessing import MinMaxScaler\n",
        "scaler = MinMaxScaler(feature_range = (0,70))\n",
        "y = scaler.fit_transform(data['age'].values.reshape(-1,1))"
      ],
      "execution_count": 46,
      "outputs": []
    },
    {
      "cell_type": "code",
      "metadata": {
        "id": "jg9wNAfUdMpy"
      },
      "source": [
        "from sklearn.linear_model import LinearRegression\n",
        "from sklearn.model_selection import train_test_split\n",
        "from sklearn import metrics"
      ],
      "execution_count": 47,
      "outputs": []
    },
    {
      "cell_type": "code",
      "metadata": {
        "colab": {
          "base_uri": "https://localhost:8080/",
          "height": 323
        },
        "id": "-i1sTmcbc6Gx",
        "outputId": "46272aa2-0fa3-4197-ebb0-5d910cc96d80"
      },
      "source": [
        "X_train, X_test, y_train, y_test = train_test_split(x, y, test_size=0.2, random_state=12)\n",
        "fig, ax = plt.subplots()\n",
        "lr = LinearRegression().fit(X_train, y_train)\n",
        "y_predict=predict=lr.predict(X_test)\n",
        "print('Mean Absolute Error:', round(metrics.mean_absolute_error(y_test, y_predict),2))  \n",
        "print('Mean Squared Error:', round(metrics.mean_squared_error(y_test, y_predict),2))  \n",
        "print('Root Mean Squared Error:', round(np.sqrt(metrics.mean_squared_error(y_test, y_predict)),2))"
      ],
      "execution_count": 48,
      "outputs": [
        {
          "output_type": "stream",
          "text": [
            "Mean Absolute Error: 9.56\n",
            "Mean Squared Error: 138.42\n",
            "Root Mean Squared Error: 11.77\n"
          ],
          "name": "stdout"
        },
        {
          "output_type": "display_data",
          "data": {
            "image/png": "[encoded data removed]",
            "text/plain": [
              "<Figure size 432x288 with 1 Axes>"
            ]
          },
          "metadata": {
            "tags": []
          }
        }
      ]
    },
    {
      "cell_type": "code",
      "metadata": {
        "colab": {
          "base_uri": "https://localhost:8080/",
          "height": 328
        },
        "id": "k9lu-JX_Npje",
        "outputId": "ee9c35de-a0b1-43a5-ae8c-0263d19c261d"
      },
      "source": [
        "data.corr()"
      ],
      "execution_count": 49,
      "outputs": [
        {
          "output_type": "execute_result",
          "data": {
            "text/html": [
              "<div>\n",
              "<style scoped>\n",
              "    .dataframe tbody tr th:only-of-type {\n",
              "        vertical-align: middle;\n",
              "    }\n",
              "\n",
              "    .dataframe tbody tr th {\n",
              "        vertical-align: top;\n",
              "    }\n",
              "\n",
              "    .dataframe thead th {\n",
              "        text-align: right;\n",
              "    }\n",
              "</style>\n",
              "<table border=\"1\" class=\"dataframe\">\n",
              "  <thead>\n",
              "    <tr style=\"text-align: right;\">\n",
              "      <th></th>\n",
              "      <th>balance</th>\n",
              "      <th>age</th>\n",
              "      <th>amount</th>\n",
              "      <th>card_present_flag</th>\n",
              "      <th>Count</th>\n",
              "      <th>count</th>\n",
              "      <th>Total Salary</th>\n",
              "      <th>Total Balance</th>\n",
              "      <th>Total Spending</th>\n",
              "    </tr>\n",
              "  </thead>\n",
              "  <tbody>\n",
              "    <tr>\n",
              "      <th>balance</th>\n",
              "      <td>1.000000</td>\n",
              "      <td>0.199329</td>\n",
              "      <td>0.059178</td>\n",
              "      <td>0.005925</td>\n",
              "      <td>NaN</td>\n",
              "      <td>-0.191837</td>\n",
              "      <td>0.253089</td>\n",
              "      <td>0.966485</td>\n",
              "      <td>-0.176509</td>\n",
              "    </tr>\n",
              "    <tr>\n",
              "      <th>age</th>\n",
              "      <td>0.199329</td>\n",
              "      <td>1.000000</td>\n",
              "      <td>0.029980</td>\n",
              "      <td>-0.008405</td>\n",
              "      <td>NaN</td>\n",
              "      <td>0.126851</td>\n",
              "      <td>0.026425</td>\n",
              "      <td>0.227929</td>\n",
              "      <td>-0.069254</td>\n",
              "    </tr>\n",
              "    <tr>\n",
              "      <th>amount</th>\n",
              "      <td>0.059178</td>\n",
              "      <td>0.029980</td>\n",
              "      <td>1.000000</td>\n",
              "      <td>-0.002074</td>\n",
              "      <td>NaN</td>\n",
              "      <td>-0.024975</td>\n",
              "      <td>0.091213</td>\n",
              "      <td>0.055703</td>\n",
              "      <td>-0.093827</td>\n",
              "    </tr>\n",
              "    <tr>\n",
              "      <th>card_present_flag</th>\n",
              "      <td>0.005925</td>\n",
              "      <td>-0.008405</td>\n",
              "      <td>-0.002074</td>\n",
              "      <td>1.000000</td>\n",
              "      <td>NaN</td>\n",
              "      <td>-0.004679</td>\n",
              "      <td>-0.018868</td>\n",
              "      <td>0.004907</td>\n",
              "      <td>0.002813</td>\n",
              "    </tr>\n",
              "    <tr>\n",
              "      <th>Count</th>\n",
              "      <td>NaN</td>\n",
              "      <td>NaN</td>\n",
              "      <td>NaN</td>\n",
              "      <td>NaN</td>\n",
              "      <td>NaN</td>\n",
              "      <td>NaN</td>\n",
              "      <td>NaN</td>\n",
              "      <td>NaN</td>\n",
              "      <td>NaN</td>\n",
              "    </tr>\n",
              "    <tr>\n",
              "      <th>count</th>\n",
              "      <td>-0.191837</td>\n",
              "      <td>0.126851</td>\n",
              "      <td>-0.024975</td>\n",
              "      <td>-0.004679</td>\n",
              "      <td>NaN</td>\n",
              "      <td>1.000000</td>\n",
              "      <td>-0.041269</td>\n",
              "      <td>-0.057328</td>\n",
              "      <td>0.275688</td>\n",
              "    </tr>\n",
              "    <tr>\n",
              "      <th>Total Salary</th>\n",
              "      <td>0.253089</td>\n",
              "      <td>0.026425</td>\n",
              "      <td>0.091213</td>\n",
              "      <td>-0.018868</td>\n",
              "      <td>NaN</td>\n",
              "      <td>-0.041269</td>\n",
              "      <td>1.000000</td>\n",
              "      <td>0.302049</td>\n",
              "      <td>-0.149849</td>\n",
              "    </tr>\n",
              "    <tr>\n",
              "      <th>Total Balance</th>\n",
              "      <td>0.966485</td>\n",
              "      <td>0.227929</td>\n",
              "      <td>0.055703</td>\n",
              "      <td>0.004907</td>\n",
              "      <td>NaN</td>\n",
              "      <td>-0.057328</td>\n",
              "      <td>0.302049</td>\n",
              "      <td>1.000000</td>\n",
              "      <td>-0.206418</td>\n",
              "    </tr>\n",
              "    <tr>\n",
              "      <th>Total Spending</th>\n",
              "      <td>-0.176509</td>\n",
              "      <td>-0.069254</td>\n",
              "      <td>-0.093827</td>\n",
              "      <td>0.002813</td>\n",
              "      <td>NaN</td>\n",
              "      <td>0.275688</td>\n",
              "      <td>-0.149849</td>\n",
              "      <td>-0.206418</td>\n",
              "      <td>1.000000</td>\n",
              "    </tr>\n",
              "  </tbody>\n",
              "</table>\n",
              "</div>"
            ],
            "text/plain": [
              "                    balance       age  ...  Total Balance  Total Spending\n",
              "balance            1.000000  0.199329  ...       0.966485       -0.176509\n",
              "age                0.199329  1.000000  ...       0.227929       -0.069254\n",
              "amount             0.059178  0.029980  ...       0.055703       -0.093827\n",
              "card_present_flag  0.005925 -0.008405  ...       0.004907        0.002813\n",
              "Count                   NaN       NaN  ...            NaN             NaN\n",
              "count             -0.191837  0.126851  ...      -0.057328        0.275688\n",
              "Total Salary       0.253089  0.026425  ...       0.302049       -0.149849\n",
              "Total Balance      0.966485  0.227929  ...       1.000000       -0.206418\n",
              "Total Spending    -0.176509 -0.069254  ...      -0.206418        1.000000\n",
              "\n",
              "[9 rows x 9 columns]"
            ]
          },
          "metadata": {
            "tags": []
          },
          "execution_count": 49
        }
      ]
    },
    {
      "cell_type": "code",
      "metadata": {
        "id": "GhRjwdOsd-r1"
      },
      "source": [
        ""
      ],
      "execution_count": 49,
      "outputs": []
    },
    {
      "cell_type": "code",
      "metadata": {
        "colab": {
          "base_uri": "https://localhost:8080/",
          "height": 323
        },
        "id": "nwMbwyz8NMEr",
        "outputId": "2a390c44-e384-4292-ebb8-c7d4b7a0776c"
      },
      "source": [
        "from sklearn.preprocessing import MinMaxScaler\n",
        "scaler = MinMaxScaler(feature_range = (0,70))\n",
        "x = scaler.fit_transform(data['Total Spending'].values.reshape(-1,1))\n",
        "\n",
        "from sklearn.preprocessing import MinMaxScaler\n",
        "scaler = MinMaxScaler(feature_range = (0,70))\n",
        "y = scaler.fit_transform(data['age'].values.reshape(-1,1))\n",
        "\n",
        "X_train, X_test, y_train, y_test = train_test_split(x, y, test_size=0.2, random_state=12)\n",
        "fig, ax = plt.subplots()\n",
        "lr = LinearRegression().fit(X_train, y_train)\n",
        "y_predict=predict=lr.predict(X_test)\n",
        "print('Mean Absolute Error:', round(metrics.mean_absolute_error(y_test, y_predict),2))  \n",
        "print('Mean Squared Error:', round(metrics.mean_squared_error(y_test, y_predict),2))  \n",
        "print('Root Mean Squared Error:', round(np.sqrt(metrics.mean_squared_error(y_test, y_predict)),2))"
      ],
      "execution_count": 50,
      "outputs": [
        {
          "output_type": "stream",
          "text": [
            "Mean Absolute Error: 9.56\n",
            "Mean Squared Error: 137.55\n",
            "Root Mean Squared Error: 11.73\n"
          ],
          "name": "stdout"
        },
        {
          "output_type": "display_data",
          "data": {
            "image/png": "[encoded data removed]",
            "text/plain": [
              "<Figure size 432x288 with 1 Axes>"
            ]
          },
          "metadata": {
            "tags": []
          }
        }
      ]
    },
    {
      "cell_type": "code",
      "metadata": {
        "colab": {
          "base_uri": "https://localhost:8080/",
          "height": 323
        },
        "id": "9DWzb_doTjk0",
        "outputId": "8e37daf0-1c85-4733-ad73-34657357d801"
      },
      "source": [
        "from sklearn.preprocessing import MinMaxScaler\n",
        "scaler = MinMaxScaler(feature_range = (0,70))\n",
        "x = scaler.fit_transform(data['Total Spending'].values.reshape(-1,1))\n",
        "\n",
        "from sklearn.preprocessing import MinMaxScaler\n",
        "scaler = MinMaxScaler(feature_range = (0,70))\n",
        "y = scaler.fit_transform(data['Total Salary'].values.reshape(-1,1))\n",
        "\n",
        "X_train, X_test, y_train, y_test = train_test_split(x, y, test_size=0.2, random_state=12)\n",
        "fig, ax = plt.subplots()\n",
        "lr = LinearRegression().fit(X_train, y_train)\n",
        "y_predict=predict=lr.predict(X_test)\n",
        "print('Mean Absolute Error:', round(metrics.mean_absolute_error(y_test, y_predict),2))  \n",
        "print('Mean Squared Error:', round(metrics.mean_squared_error(y_test, y_predict),2))  \n",
        "print('Root Mean Squared Error:', round(np.sqrt(metrics.mean_squared_error(y_test, y_predict)),2))"
      ],
      "execution_count": 51,
      "outputs": [
        {
          "output_type": "stream",
          "text": [
            "Mean Absolute Error: 12.67\n",
            "Mean Squared Error: 248.38\n",
            "Root Mean Squared Error: 15.76\n"
          ],
          "name": "stdout"
        },
        {
          "output_type": "display_data",
          "data": {
            "image/png": "[encoded data removed]",
            "text/plain": [
              "<Figure size 432x288 with 1 Axes>"
            ]
          },
          "metadata": {
            "tags": []
          }
        }
      ]
    },
    {
      "cell_type": "code",
      "metadata": {
        "colab": {
          "base_uri": "https://localhost:8080/",
          "height": 496
        },
        "id": "_S7Q6iKNT2qR",
        "outputId": "604ec35a-5516-4918-d0a5-d07f6d0ebff6"
      },
      "source": [
        "data.head()"
      ],
      "execution_count": 52,
      "outputs": [
        {
          "output_type": "execute_result",
          "data": {
            "text/html": [
              "<div>\n",
              "<style scoped>\n",
              "    .dataframe tbody tr th:only-of-type {\n",
              "        vertical-align: middle;\n",
              "    }\n",
              "\n",
              "    .dataframe tbody tr th {\n",
              "        vertical-align: top;\n",
              "    }\n",
              "\n",
              "    .dataframe thead th {\n",
              "        text-align: right;\n",
              "    }\n",
              "</style>\n",
              "<table border=\"1\" class=\"dataframe\">\n",
              "  <thead>\n",
              "    <tr style=\"text-align: right;\">\n",
              "      <th></th>\n",
              "      <th>status</th>\n",
              "      <th>account</th>\n",
              "      <th>currency</th>\n",
              "      <th>long_lat</th>\n",
              "      <th>txn_description</th>\n",
              "      <th>first_name</th>\n",
              "      <th>balance</th>\n",
              "      <th>date</th>\n",
              "      <th>gender</th>\n",
              "      <th>age</th>\n",
              "      <th>extraction</th>\n",
              "      <th>amount</th>\n",
              "      <th>transaction_id</th>\n",
              "      <th>country</th>\n",
              "      <th>customer_id</th>\n",
              "      <th>movement</th>\n",
              "      <th>card_present_flag</th>\n",
              "      <th>merchant_id</th>\n",
              "      <th>merchant_suburb</th>\n",
              "      <th>merchant_state</th>\n",
              "      <th>merchant_long_lat</th>\n",
              "      <th>Count</th>\n",
              "      <th>count</th>\n",
              "      <th>Total Salary</th>\n",
              "      <th>Total Balance</th>\n",
              "      <th>Total Spending</th>\n",
              "    </tr>\n",
              "  </thead>\n",
              "  <tbody>\n",
              "    <tr>\n",
              "      <th>0</th>\n",
              "      <td>authorized</td>\n",
              "      <td>ACC-1598451071</td>\n",
              "      <td>AUD</td>\n",
              "      <td>153.41 -27.95</td>\n",
              "      <td>POS</td>\n",
              "      <td>Diana</td>\n",
              "      <td>35.39</td>\n",
              "      <td>2018-08-01</td>\n",
              "      <td>F</td>\n",
              "      <td>26</td>\n",
              "      <td>2018-08-01T01:01:15.000+0000</td>\n",
              "      <td>16.25</td>\n",
              "      <td>a623070bfead4541a6b0fff8a09e706c</td>\n",
              "      <td>Australia</td>\n",
              "      <td>CUS-2487424745</td>\n",
              "      <td>debit</td>\n",
              "      <td>1.0</td>\n",
              "      <td>81c48296-73be-44a7-befa-d053f48ce7cd</td>\n",
              "      <td>Ashmore</td>\n",
              "      <td>QLD</td>\n",
              "      <td>153.38 -27.99</td>\n",
              "      <td>1</td>\n",
              "      <td>14</td>\n",
              "      <td>14191.38</td>\n",
              "      <td>29963.79</td>\n",
              "      <td>9819.21</td>\n",
              "    </tr>\n",
              "    <tr>\n",
              "      <th>1</th>\n",
              "      <td>authorized</td>\n",
              "      <td>ACC-1598451071</td>\n",
              "      <td>AUD</td>\n",
              "      <td>153.41 -27.95</td>\n",
              "      <td>SALES-POS</td>\n",
              "      <td>Diana</td>\n",
              "      <td>21.20</td>\n",
              "      <td>2018-08-01</td>\n",
              "      <td>F</td>\n",
              "      <td>26</td>\n",
              "      <td>2018-08-01T01:13:45.000+0000</td>\n",
              "      <td>14.19</td>\n",
              "      <td>13270a2a902145da9db4c951e04b51b9</td>\n",
              "      <td>Australia</td>\n",
              "      <td>CUS-2487424745</td>\n",
              "      <td>debit</td>\n",
              "      <td>0.0</td>\n",
              "      <td>830a451c-316e-4a6a-bf25-e37caedca49e</td>\n",
              "      <td>Sydney</td>\n",
              "      <td>NSW</td>\n",
              "      <td>151.21 -33.87</td>\n",
              "      <td>1</td>\n",
              "      <td>14</td>\n",
              "      <td>14191.38</td>\n",
              "      <td>29963.79</td>\n",
              "      <td>9819.21</td>\n",
              "    </tr>\n",
              "    <tr>\n",
              "      <th>2</th>\n",
              "      <td>authorized</td>\n",
              "      <td>ACC-1222300524</td>\n",
              "      <td>AUD</td>\n",
              "      <td>151.23 -33.94</td>\n",
              "      <td>POS</td>\n",
              "      <td>Michael</td>\n",
              "      <td>5.71</td>\n",
              "      <td>2018-08-01</td>\n",
              "      <td>M</td>\n",
              "      <td>38</td>\n",
              "      <td>2018-08-01T01:26:15.000+0000</td>\n",
              "      <td>6.42</td>\n",
              "      <td>feb79e7ecd7048a5a36ec889d1a94270</td>\n",
              "      <td>Australia</td>\n",
              "      <td>CUS-2142601169</td>\n",
              "      <td>debit</td>\n",
              "      <td>1.0</td>\n",
              "      <td>835c231d-8cdf-4e96-859d-e9d571760cf0</td>\n",
              "      <td>Sydney</td>\n",
              "      <td>NSW</td>\n",
              "      <td>151.21 -33.87</td>\n",
              "      <td>1</td>\n",
              "      <td>13</td>\n",
              "      <td>13027.69</td>\n",
              "      <td>22826.60</td>\n",
              "      <td>9685.76</td>\n",
              "    </tr>\n",
              "    <tr>\n",
              "      <th>3</th>\n",
              "      <td>authorized</td>\n",
              "      <td>ACC-1037050564</td>\n",
              "      <td>AUD</td>\n",
              "      <td>153.10 -27.66</td>\n",
              "      <td>SALES-POS</td>\n",
              "      <td>Rhonda</td>\n",
              "      <td>2117.22</td>\n",
              "      <td>2018-08-01</td>\n",
              "      <td>F</td>\n",
              "      <td>40</td>\n",
              "      <td>2018-08-01T01:38:45.000+0000</td>\n",
              "      <td>40.90</td>\n",
              "      <td>2698170da3704fd981b15e64a006079e</td>\n",
              "      <td>Australia</td>\n",
              "      <td>CUS-1614226872</td>\n",
              "      <td>debit</td>\n",
              "      <td>1.0</td>\n",
              "      <td>48514682-c78a-4a88-b0da-2d6302e64673</td>\n",
              "      <td>Buderim</td>\n",
              "      <td>QLD</td>\n",
              "      <td>153.05 -26.68</td>\n",
              "      <td>1</td>\n",
              "      <td>13</td>\n",
              "      <td>11597.17</td>\n",
              "      <td>51472.20</td>\n",
              "      <td>6845.27</td>\n",
              "    </tr>\n",
              "    <tr>\n",
              "      <th>4</th>\n",
              "      <td>authorized</td>\n",
              "      <td>ACC-1598451071</td>\n",
              "      <td>AUD</td>\n",
              "      <td>153.41 -27.95</td>\n",
              "      <td>SALES-POS</td>\n",
              "      <td>Diana</td>\n",
              "      <td>17.95</td>\n",
              "      <td>2018-08-01</td>\n",
              "      <td>F</td>\n",
              "      <td>26</td>\n",
              "      <td>2018-08-01T01:51:15.000+0000</td>\n",
              "      <td>3.25</td>\n",
              "      <td>329adf79878c4cf0aeb4188b4691c266</td>\n",
              "      <td>Australia</td>\n",
              "      <td>CUS-2487424745</td>\n",
              "      <td>debit</td>\n",
              "      <td>1.0</td>\n",
              "      <td>b4e02c10-0852-4273-b8fd-7b3395e32eb0</td>\n",
              "      <td>Mermaid Beach</td>\n",
              "      <td>QLD</td>\n",
              "      <td>153.44 -28.06</td>\n",
              "      <td>1</td>\n",
              "      <td>14</td>\n",
              "      <td>14191.38</td>\n",
              "      <td>29963.79</td>\n",
              "      <td>9819.21</td>\n",
              "    </tr>\n",
              "  </tbody>\n",
              "</table>\n",
              "</div>"
            ],
            "text/plain": [
              "       status         account  ... Total Balance Total Spending\n",
              "0  authorized  ACC-1598451071  ...      29963.79        9819.21\n",
              "1  authorized  ACC-1598451071  ...      29963.79        9819.21\n",
              "2  authorized  ACC-1222300524  ...      22826.60        9685.76\n",
              "3  authorized  ACC-1037050564  ...      51472.20        6845.27\n",
              "4  authorized  ACC-1598451071  ...      29963.79        9819.21\n",
              "\n",
              "[5 rows x 26 columns]"
            ]
          },
          "metadata": {
            "tags": []
          },
          "execution_count": 52
        }
      ]
    },
    {
      "cell_type": "code",
      "metadata": {
        "id": "AeMn0JN8ULPt"
      },
      "source": [
        "dict = {'M':1,'F':0}\n",
        "data['gender'] = data['gender'].map(dict)"
      ],
      "execution_count": 53,
      "outputs": []
    },
    {
      "cell_type": "code",
      "metadata": {
        "colab": {
          "base_uri": "https://localhost:8080/"
        },
        "id": "rmiH2vyDzKW-",
        "outputId": "c54607a3-4d41-440b-d46d-0e55359760bb"
      },
      "source": [
        "data.columns"
      ],
      "execution_count": 54,
      "outputs": [
        {
          "output_type": "execute_result",
          "data": {
            "text/plain": [
              "Index(['status', 'account', 'currency', 'long_lat', 'txn_description',\n",
              "       'first_name', 'balance', 'date', 'gender', 'age', 'extraction',\n",
              "       'amount', 'transaction_id', 'country', 'customer_id', 'movement',\n",
              "       'card_present_flag', 'merchant_id', 'merchant_suburb', 'merchant_state',\n",
              "       'merchant_long_lat', 'Count', 'count', 'Total Salary', 'Total Balance',\n",
              "       'Total Spending'],\n",
              "      dtype='object')"
            ]
          },
          "metadata": {
            "tags": []
          },
          "execution_count": 54
        }
      ]
    },
    {
      "cell_type": "code",
      "metadata": {
        "id": "IJVuiTu3zOlo"
      },
      "source": [
        "d = data[[ 'txn_description',\n",
        "        'balance', 'gender', 'age', 'amount', 'transaction_id', 'country', 'customer_id', 'movement',\n",
        "       'card_present_flag', 'merchant_suburb', 'merchant_state', 'Count', 'count', 'Total Salary', 'Total Balance',\n",
        "       'Total Spending']]"
      ],
      "execution_count": 55,
      "outputs": []
    },
    {
      "cell_type": "code",
      "metadata": {
        "colab": {
          "base_uri": "https://localhost:8080/"
        },
        "id": "7Gy8lrhXB2nV",
        "outputId": "f9f3716b-146e-44c7-dab7-c09e5b5b7003"
      },
      "source": [
        "d.info()"
      ],
      "execution_count": 56,
      "outputs": [
        {
          "output_type": "stream",
          "text": [
            "<class 'pandas.core.frame.DataFrame'>\n",
            "Int64Index: 12043 entries, 0 to 12042\n",
            "Data columns (total 17 columns):\n",
            " #   Column             Non-Null Count  Dtype  \n",
            "---  ------             --------------  -----  \n",
            " 0   txn_description    12043 non-null  object \n",
            " 1   balance            12043 non-null  float64\n",
            " 2   gender             12043 non-null  int64  \n",
            " 3   age                12043 non-null  int64  \n",
            " 4   amount             12043 non-null  float64\n",
            " 5   transaction_id     12043 non-null  object \n",
            " 6   country            12043 non-null  object \n",
            " 7   customer_id        12043 non-null  object \n",
            " 8   movement           12043 non-null  object \n",
            " 9   card_present_flag  7717 non-null   float64\n",
            " 10  merchant_suburb    7717 non-null   object \n",
            " 11  merchant_state     7717 non-null   object \n",
            " 12  Count              12043 non-null  int64  \n",
            " 13  count              12043 non-null  int64  \n",
            " 14  Total Salary       12043 non-null  float64\n",
            " 15  Total Balance      12043 non-null  float64\n",
            " 16  Total Spending     12043 non-null  float64\n",
            "dtypes: float64(6), int64(4), object(7)\n",
            "memory usage: 1.7+ MB\n"
          ],
          "name": "stdout"
        }
      ]
    },
    {
      "cell_type": "code",
      "metadata": {
        "colab": {
          "base_uri": "https://localhost:8080/"
        },
        "id": "dvRQKOmwCbDy",
        "outputId": "71c8a2ee-c654-400e-a268-d8d5a1170676"
      },
      "source": [
        "for column in d.columns:\n",
        "    d[column].fillna(d[column].mode()[0], inplace=True)"
      ],
      "execution_count": 57,
      "outputs": [
        {
          "output_type": "stream",
          "text": [
            "/usr/local/lib/python3.7/dist-packages/pandas/core/series.py:4536: SettingWithCopyWarning: \n",
            "A value is trying to be set on a copy of a slice from a DataFrame\n",
            "\n",
            "See the caveats in the documentation: https://pandas.pydata.org/pandas-docs/stable/user_guide/indexing.html#returning-a-view-versus-a-copy\n",
            "  downcast=downcast,\n"
          ],
          "name": "stderr"
        }
      ]
    },
    {
      "cell_type": "code",
      "metadata": {
        "colab": {
          "base_uri": "https://localhost:8080/"
        },
        "id": "7AQyy67tC-Ks",
        "outputId": "d15ea162-5573-42ee-d55c-fe0a1dda7317"
      },
      "source": [
        "d.info()"
      ],
      "execution_count": 58,
      "outputs": [
        {
          "output_type": "stream",
          "text": [
            "<class 'pandas.core.frame.DataFrame'>\n",
            "Int64Index: 12043 entries, 0 to 12042\n",
            "Data columns (total 17 columns):\n",
            " #   Column             Non-Null Count  Dtype  \n",
            "---  ------             --------------  -----  \n",
            " 0   txn_description    12043 non-null  object \n",
            " 1   balance            12043 non-null  float64\n",
            " 2   gender             12043 non-null  int64  \n",
            " 3   age                12043 non-null  int64  \n",
            " 4   amount             12043 non-null  float64\n",
            " 5   transaction_id     12043 non-null  object \n",
            " 6   country            12043 non-null  object \n",
            " 7   customer_id        12043 non-null  object \n",
            " 8   movement           12043 non-null  object \n",
            " 9   card_present_flag  12043 non-null  float64\n",
            " 10  merchant_suburb    12043 non-null  object \n",
            " 11  merchant_state     12043 non-null  object \n",
            " 12  Count              12043 non-null  int64  \n",
            " 13  count              12043 non-null  int64  \n",
            " 14  Total Salary       12043 non-null  float64\n",
            " 15  Total Balance      12043 non-null  float64\n",
            " 16  Total Spending     12043 non-null  float64\n",
            "dtypes: float64(6), int64(4), object(7)\n",
            "memory usage: 1.7+ MB\n"
          ],
          "name": "stdout"
        }
      ]
    },
    {
      "cell_type": "code",
      "metadata": {
        "colab": {
          "base_uri": "https://localhost:8080/"
        },
        "id": "0X6nb6ENDCsE",
        "outputId": "00eb0955-4315-492c-dfab-368145bbf1af"
      },
      "source": [
        "d.card_present_flag = d.card_present_flag.astype(int)"
      ],
      "execution_count": 59,
      "outputs": [
        {
          "output_type": "stream",
          "text": [
            "/usr/local/lib/python3.7/dist-packages/pandas/core/generic.py:5170: SettingWithCopyWarning: \n",
            "A value is trying to be set on a copy of a slice from a DataFrame.\n",
            "Try using .loc[row_indexer,col_indexer] = value instead\n",
            "\n",
            "See the caveats in the documentation: https://pandas.pydata.org/pandas-docs/stable/user_guide/indexing.html#returning-a-view-versus-a-copy\n",
            "  self[name] = value\n"
          ],
          "name": "stderr"
        }
      ]
    },
    {
      "cell_type": "code",
      "metadata": {
        "colab": {
          "base_uri": "https://localhost:8080/",
          "height": 326
        },
        "id": "BluGt4GJDTSf",
        "outputId": "902a3b90-d8e0-4e9a-bbd2-3616ba1fb2b0"
      },
      "source": [
        "d.head()"
      ],
      "execution_count": 60,
      "outputs": [
        {
          "output_type": "execute_result",
          "data": {
            "text/html": [
              "<div>\n",
              "<style scoped>\n",
              "    .dataframe tbody tr th:only-of-type {\n",
              "        vertical-align: middle;\n",
              "    }\n",
              "\n",
              "    .dataframe tbody tr th {\n",
              "        vertical-align: top;\n",
              "    }\n",
              "\n",
              "    .dataframe thead th {\n",
              "        text-align: right;\n",
              "    }\n",
              "</style>\n",
              "<table border=\"1\" class=\"dataframe\">\n",
              "  <thead>\n",
              "    <tr style=\"text-align: right;\">\n",
              "      <th></th>\n",
              "      <th>txn_description</th>\n",
              "      <th>balance</th>\n",
              "      <th>gender</th>\n",
              "      <th>age</th>\n",
              "      <th>amount</th>\n",
              "      <th>transaction_id</th>\n",
              "      <th>country</th>\n",
              "      <th>customer_id</th>\n",
              "      <th>movement</th>\n",
              "      <th>card_present_flag</th>\n",
              "      <th>merchant_suburb</th>\n",
              "      <th>merchant_state</th>\n",
              "      <th>Count</th>\n",
              "      <th>count</th>\n",
              "      <th>Total Salary</th>\n",
              "      <th>Total Balance</th>\n",
              "      <th>Total Spending</th>\n",
              "    </tr>\n",
              "  </thead>\n",
              "  <tbody>\n",
              "    <tr>\n",
              "      <th>0</th>\n",
              "      <td>POS</td>\n",
              "      <td>35.39</td>\n",
              "      <td>0</td>\n",
              "      <td>26</td>\n",
              "      <td>16.25</td>\n",
              "      <td>a623070bfead4541a6b0fff8a09e706c</td>\n",
              "      <td>Australia</td>\n",
              "      <td>CUS-2487424745</td>\n",
              "      <td>debit</td>\n",
              "      <td>1</td>\n",
              "      <td>Ashmore</td>\n",
              "      <td>QLD</td>\n",
              "      <td>1</td>\n",
              "      <td>14</td>\n",
              "      <td>14191.38</td>\n",
              "      <td>29963.79</td>\n",
              "      <td>9819.21</td>\n",
              "    </tr>\n",
              "    <tr>\n",
              "      <th>1</th>\n",
              "      <td>SALES-POS</td>\n",
              "      <td>21.20</td>\n",
              "      <td>0</td>\n",
              "      <td>26</td>\n",
              "      <td>14.19</td>\n",
              "      <td>13270a2a902145da9db4c951e04b51b9</td>\n",
              "      <td>Australia</td>\n",
              "      <td>CUS-2487424745</td>\n",
              "      <td>debit</td>\n",
              "      <td>0</td>\n",
              "      <td>Sydney</td>\n",
              "      <td>NSW</td>\n",
              "      <td>1</td>\n",
              "      <td>14</td>\n",
              "      <td>14191.38</td>\n",
              "      <td>29963.79</td>\n",
              "      <td>9819.21</td>\n",
              "    </tr>\n",
              "    <tr>\n",
              "      <th>2</th>\n",
              "      <td>POS</td>\n",
              "      <td>5.71</td>\n",
              "      <td>1</td>\n",
              "      <td>38</td>\n",
              "      <td>6.42</td>\n",
              "      <td>feb79e7ecd7048a5a36ec889d1a94270</td>\n",
              "      <td>Australia</td>\n",
              "      <td>CUS-2142601169</td>\n",
              "      <td>debit</td>\n",
              "      <td>1</td>\n",
              "      <td>Sydney</td>\n",
              "      <td>NSW</td>\n",
              "      <td>1</td>\n",
              "      <td>13</td>\n",
              "      <td>13027.69</td>\n",
              "      <td>22826.60</td>\n",
              "      <td>9685.76</td>\n",
              "    </tr>\n",
              "    <tr>\n",
              "      <th>3</th>\n",
              "      <td>SALES-POS</td>\n",
              "      <td>2117.22</td>\n",
              "      <td>0</td>\n",
              "      <td>40</td>\n",
              "      <td>40.90</td>\n",
              "      <td>2698170da3704fd981b15e64a006079e</td>\n",
              "      <td>Australia</td>\n",
              "      <td>CUS-1614226872</td>\n",
              "      <td>debit</td>\n",
              "      <td>1</td>\n",
              "      <td>Buderim</td>\n",
              "      <td>QLD</td>\n",
              "      <td>1</td>\n",
              "      <td>13</td>\n",
              "      <td>11597.17</td>\n",
              "      <td>51472.20</td>\n",
              "      <td>6845.27</td>\n",
              "    </tr>\n",
              "    <tr>\n",
              "      <th>4</th>\n",
              "      <td>SALES-POS</td>\n",
              "      <td>17.95</td>\n",
              "      <td>0</td>\n",
              "      <td>26</td>\n",
              "      <td>3.25</td>\n",
              "      <td>329adf79878c4cf0aeb4188b4691c266</td>\n",
              "      <td>Australia</td>\n",
              "      <td>CUS-2487424745</td>\n",
              "      <td>debit</td>\n",
              "      <td>1</td>\n",
              "      <td>Mermaid Beach</td>\n",
              "      <td>QLD</td>\n",
              "      <td>1</td>\n",
              "      <td>14</td>\n",
              "      <td>14191.38</td>\n",
              "      <td>29963.79</td>\n",
              "      <td>9819.21</td>\n",
              "    </tr>\n",
              "  </tbody>\n",
              "</table>\n",
              "</div>"
            ],
            "text/plain": [
              "  txn_description  balance  gender  ...  Total Salary  Total Balance Total Spending\n",
              "0             POS    35.39       0  ...      14191.38       29963.79        9819.21\n",
              "1       SALES-POS    21.20       0  ...      14191.38       29963.79        9819.21\n",
              "2             POS     5.71       1  ...      13027.69       22826.60        9685.76\n",
              "3       SALES-POS  2117.22       0  ...      11597.17       51472.20        6845.27\n",
              "4       SALES-POS    17.95       0  ...      14191.38       29963.79        9819.21\n",
              "\n",
              "[5 rows x 17 columns]"
            ]
          },
          "metadata": {
            "tags": []
          },
          "execution_count": 60
        }
      ]
    },
    {
      "cell_type": "code",
      "metadata": {
        "colab": {
          "base_uri": "https://localhost:8080/"
        },
        "id": "buIs8FfGDV1A",
        "outputId": "af1186c9-b0b2-436e-b480-289f07d56f0a"
      },
      "source": [
        "d.drop(['transaction_id','country','customer_id','merchant_suburb'], axis = 1, inplace = True)"
      ],
      "execution_count": 61,
      "outputs": [
        {
          "output_type": "stream",
          "text": [
            "/usr/local/lib/python3.7/dist-packages/pandas/core/frame.py:4174: SettingWithCopyWarning: \n",
            "A value is trying to be set on a copy of a slice from a DataFrame\n",
            "\n",
            "See the caveats in the documentation: https://pandas.pydata.org/pandas-docs/stable/user_guide/indexing.html#returning-a-view-versus-a-copy\n",
            "  errors=errors,\n"
          ],
          "name": "stderr"
        }
      ]
    },
    {
      "cell_type": "code",
      "metadata": {
        "colab": {
          "base_uri": "https://localhost:8080/",
          "height": 204
        },
        "id": "85l-HTu2PWBs",
        "outputId": "d79d315c-fdaf-4a6e-c53b-b1f650a920e6"
      },
      "source": [
        "d.head()"
      ],
      "execution_count": 62,
      "outputs": [
        {
          "output_type": "execute_result",
          "data": {
            "text/html": [
              "<div>\n",
              "<style scoped>\n",
              "    .dataframe tbody tr th:only-of-type {\n",
              "        vertical-align: middle;\n",
              "    }\n",
              "\n",
              "    .dataframe tbody tr th {\n",
              "        vertical-align: top;\n",
              "    }\n",
              "\n",
              "    .dataframe thead th {\n",
              "        text-align: right;\n",
              "    }\n",
              "</style>\n",
              "<table border=\"1\" class=\"dataframe\">\n",
              "  <thead>\n",
              "    <tr style=\"text-align: right;\">\n",
              "      <th></th>\n",
              "      <th>txn_description</th>\n",
              "      <th>balance</th>\n",
              "      <th>gender</th>\n",
              "      <th>age</th>\n",
              "      <th>amount</th>\n",
              "      <th>movement</th>\n",
              "      <th>card_present_flag</th>\n",
              "      <th>merchant_state</th>\n",
              "      <th>Count</th>\n",
              "      <th>count</th>\n",
              "      <th>Total Salary</th>\n",
              "      <th>Total Balance</th>\n",
              "      <th>Total Spending</th>\n",
              "    </tr>\n",
              "  </thead>\n",
              "  <tbody>\n",
              "    <tr>\n",
              "      <th>0</th>\n",
              "      <td>POS</td>\n",
              "      <td>35.39</td>\n",
              "      <td>0</td>\n",
              "      <td>26</td>\n",
              "      <td>16.25</td>\n",
              "      <td>debit</td>\n",
              "      <td>1</td>\n",
              "      <td>QLD</td>\n",
              "      <td>1</td>\n",
              "      <td>14</td>\n",
              "      <td>14191.38</td>\n",
              "      <td>29963.79</td>\n",
              "      <td>9819.21</td>\n",
              "    </tr>\n",
              "    <tr>\n",
              "      <th>1</th>\n",
              "      <td>SALES-POS</td>\n",
              "      <td>21.20</td>\n",
              "      <td>0</td>\n",
              "      <td>26</td>\n",
              "      <td>14.19</td>\n",
              "      <td>debit</td>\n",
              "      <td>0</td>\n",
              "      <td>NSW</td>\n",
              "      <td>1</td>\n",
              "      <td>14</td>\n",
              "      <td>14191.38</td>\n",
              "      <td>29963.79</td>\n",
              "      <td>9819.21</td>\n",
              "    </tr>\n",
              "    <tr>\n",
              "      <th>2</th>\n",
              "      <td>POS</td>\n",
              "      <td>5.71</td>\n",
              "      <td>1</td>\n",
              "      <td>38</td>\n",
              "      <td>6.42</td>\n",
              "      <td>debit</td>\n",
              "      <td>1</td>\n",
              "      <td>NSW</td>\n",
              "      <td>1</td>\n",
              "      <td>13</td>\n",
              "      <td>13027.69</td>\n",
              "      <td>22826.60</td>\n",
              "      <td>9685.76</td>\n",
              "    </tr>\n",
              "    <tr>\n",
              "      <th>3</th>\n",
              "      <td>SALES-POS</td>\n",
              "      <td>2117.22</td>\n",
              "      <td>0</td>\n",
              "      <td>40</td>\n",
              "      <td>40.90</td>\n",
              "      <td>debit</td>\n",
              "      <td>1</td>\n",
              "      <td>QLD</td>\n",
              "      <td>1</td>\n",
              "      <td>13</td>\n",
              "      <td>11597.17</td>\n",
              "      <td>51472.20</td>\n",
              "      <td>6845.27</td>\n",
              "    </tr>\n",
              "    <tr>\n",
              "      <th>4</th>\n",
              "      <td>SALES-POS</td>\n",
              "      <td>17.95</td>\n",
              "      <td>0</td>\n",
              "      <td>26</td>\n",
              "      <td>3.25</td>\n",
              "      <td>debit</td>\n",
              "      <td>1</td>\n",
              "      <td>QLD</td>\n",
              "      <td>1</td>\n",
              "      <td>14</td>\n",
              "      <td>14191.38</td>\n",
              "      <td>29963.79</td>\n",
              "      <td>9819.21</td>\n",
              "    </tr>\n",
              "  </tbody>\n",
              "</table>\n",
              "</div>"
            ],
            "text/plain": [
              "  txn_description  balance  gender  ...  Total Salary  Total Balance Total Spending\n",
              "0             POS    35.39       0  ...      14191.38       29963.79        9819.21\n",
              "1       SALES-POS    21.20       0  ...      14191.38       29963.79        9819.21\n",
              "2             POS     5.71       1  ...      13027.69       22826.60        9685.76\n",
              "3       SALES-POS  2117.22       0  ...      11597.17       51472.20        6845.27\n",
              "4       SALES-POS    17.95       0  ...      14191.38       29963.79        9819.21\n",
              "\n",
              "[5 rows x 13 columns]"
            ]
          },
          "metadata": {
            "tags": []
          },
          "execution_count": 62
        }
      ]
    },
    {
      "cell_type": "code",
      "metadata": {
        "id": "xr_1wPbZHABG"
      },
      "source": [
        "anz = cust[['Total Salary','Total Balance','Total Spending']]"
      ],
      "execution_count": 63,
      "outputs": []
    },
    {
      "cell_type": "code",
      "metadata": {
        "colab": {
          "base_uri": "https://localhost:8080/"
        },
        "id": "PsDKSXofPXUA",
        "outputId": "42645054-579f-4035-b6e7-c8d1341b7749"
      },
      "source": [
        "def formula(d):\n",
        "  if d['Total Spending'] > d['Total Salary'] and d['Total Balance'] < d['Total Spending']:\n",
        "    return \"bad\"\n",
        "  elif d['Total Spending']<d['Total Salary'] and d['Total Spending']>d['Total Balance']:\n",
        "    return \"good\"\n",
        "  elif d['Total Spending']>d['Total Salary'] and d['Total Spending']<d['Total Balance']:\n",
        "    return \"good\" \n",
        "  elif d['Total Spending']<d['Total Salary'] and d['Total Spending'] < d['Total Balance']:\n",
        "    return \"best\"\n",
        "  else:\n",
        "    return \"bad\"\n",
        "anz['Status'] = anz.apply(formula,axis = 1)"
      ],
      "execution_count": 64,
      "outputs": [
        {
          "output_type": "stream",
          "text": [
            "/usr/local/lib/python3.7/dist-packages/ipykernel_launcher.py:12: SettingWithCopyWarning: \n",
            "A value is trying to be set on a copy of a slice from a DataFrame.\n",
            "Try using .loc[row_indexer,col_indexer] = value instead\n",
            "\n",
            "See the caveats in the documentation: https://pandas.pydata.org/pandas-docs/stable/user_guide/indexing.html#returning-a-view-versus-a-copy\n",
            "  if sys.path[0] == '':\n"
          ],
          "name": "stderr"
        }
      ]
    },
    {
      "cell_type": "code",
      "metadata": {
        "colab": {
          "base_uri": "https://localhost:8080/"
        },
        "id": "LyU1Vbu9GxCL",
        "outputId": "0e3a58d8-563f-4dc0-9cea-ee4fb9a668a4"
      },
      "source": [
        "anz.Status.value_counts()"
      ],
      "execution_count": 65,
      "outputs": [
        {
          "output_type": "execute_result",
          "data": {
            "text/plain": [
              "best    100\n",
              "Name: Status, dtype: int64"
            ]
          },
          "metadata": {
            "tags": []
          },
          "execution_count": 65
        }
      ]
    },
    {
      "cell_type": "code",
      "metadata": {
        "colab": {
          "base_uri": "https://localhost:8080/",
          "height": 204
        },
        "id": "If5LB84DLXc0",
        "outputId": "4af48d04-482e-46e6-bd42-2ef538d809bc"
      },
      "source": [
        "anz.head()"
      ],
      "execution_count": 66,
      "outputs": [
        {
          "output_type": "execute_result",
          "data": {
            "text/html": [
              "<div>\n",
              "<style scoped>\n",
              "    .dataframe tbody tr th:only-of-type {\n",
              "        vertical-align: middle;\n",
              "    }\n",
              "\n",
              "    .dataframe tbody tr th {\n",
              "        vertical-align: top;\n",
              "    }\n",
              "\n",
              "    .dataframe thead th {\n",
              "        text-align: right;\n",
              "    }\n",
              "</style>\n",
              "<table border=\"1\" class=\"dataframe\">\n",
              "  <thead>\n",
              "    <tr style=\"text-align: right;\">\n",
              "      <th></th>\n",
              "      <th>Total Salary</th>\n",
              "      <th>Total Balance</th>\n",
              "      <th>Total Spending</th>\n",
              "      <th>Status</th>\n",
              "    </tr>\n",
              "  </thead>\n",
              "  <tbody>\n",
              "    <tr>\n",
              "      <th>0</th>\n",
              "      <td>12616.11</td>\n",
              "      <td>61342.65</td>\n",
              "      <td>1810.86</td>\n",
              "      <td>best</td>\n",
              "    </tr>\n",
              "    <tr>\n",
              "      <th>1</th>\n",
              "      <td>25050.55</td>\n",
              "      <td>83700.42</td>\n",
              "      <td>3975.82</td>\n",
              "      <td>best</td>\n",
              "    </tr>\n",
              "    <tr>\n",
              "      <th>2</th>\n",
              "      <td>11499.06</td>\n",
              "      <td>35050.32</td>\n",
              "      <td>4389.54</td>\n",
              "      <td>best</td>\n",
              "    </tr>\n",
              "    <tr>\n",
              "      <th>3</th>\n",
              "      <td>22248.07</td>\n",
              "      <td>114575.08</td>\n",
              "      <td>3885.75</td>\n",
              "      <td>best</td>\n",
              "    </tr>\n",
              "    <tr>\n",
              "      <th>4</th>\n",
              "      <td>27326.11</td>\n",
              "      <td>166920.02</td>\n",
              "      <td>4940.61</td>\n",
              "      <td>best</td>\n",
              "    </tr>\n",
              "  </tbody>\n",
              "</table>\n",
              "</div>"
            ],
            "text/plain": [
              "   Total Salary  Total Balance  Total Spending Status\n",
              "0      12616.11       61342.65         1810.86   best\n",
              "1      25050.55       83700.42         3975.82   best\n",
              "2      11499.06       35050.32         4389.54   best\n",
              "3      22248.07      114575.08         3885.75   best\n",
              "4      27326.11      166920.02         4940.61   best"
            ]
          },
          "metadata": {
            "tags": []
          },
          "execution_count": 66
        }
      ]
    },
    {
      "cell_type": "code",
      "metadata": {
        "id": "7_tErCo-Luq3"
      },
      "source": [
        "from sklearn.preprocessing import MinMaxScaler\n",
        "scaler = MinMaxScaler(feature_range = (0,100))\n",
        "anz['Annual Salary'] = scaler.fit_transform(anz['Total Salary'].values.reshape(-1,1))"
      ],
      "execution_count": 67,
      "outputs": []
    },
    {
      "cell_type": "code",
      "metadata": {
        "id": "zDevtQyvNkwg"
      },
      "source": [
        "from sklearn.preprocessing import MinMaxScaler\n",
        "scaler = MinMaxScaler(feature_range = (0,100))\n",
        "anz['Annual Balance'] = scaler.fit_transform(anz['Total Balance'].values.reshape(-1,1))"
      ],
      "execution_count": 68,
      "outputs": []
    },
    {
      "cell_type": "code",
      "metadata": {
        "id": "fe3dInCuPQst"
      },
      "source": [
        "from sklearn.preprocessing import MinMaxScaler\n",
        "scaler = MinMaxScaler(feature_range = (0,100))\n",
        "anz['Annual Spending'] = scaler.fit_transform(anz['Total Spending'].values.reshape(-1,1))"
      ],
      "execution_count": 69,
      "outputs": []
    },
    {
      "cell_type": "code",
      "metadata": {
        "colab": {
          "base_uri": "https://localhost:8080/",
          "height": 204
        },
        "id": "EkQq-MsXPXNk",
        "outputId": "fb3e1e6a-320b-4732-cf32-625ae3b3b07d"
      },
      "source": [
        "anz.head()"
      ],
      "execution_count": 70,
      "outputs": [
        {
          "output_type": "execute_result",
          "data": {
            "text/html": [
              "<div>\n",
              "<style scoped>\n",
              "    .dataframe tbody tr th:only-of-type {\n",
              "        vertical-align: middle;\n",
              "    }\n",
              "\n",
              "    .dataframe tbody tr th {\n",
              "        vertical-align: top;\n",
              "    }\n",
              "\n",
              "    .dataframe thead th {\n",
              "        text-align: right;\n",
              "    }\n",
              "</style>\n",
              "<table border=\"1\" class=\"dataframe\">\n",
              "  <thead>\n",
              "    <tr style=\"text-align: right;\">\n",
              "      <th></th>\n",
              "      <th>Total Salary</th>\n",
              "      <th>Total Balance</th>\n",
              "      <th>Total Spending</th>\n",
              "      <th>Status</th>\n",
              "      <th>Annual Salary</th>\n",
              "      <th>Annual Balance</th>\n",
              "      <th>Annual Spending</th>\n",
              "    </tr>\n",
              "  </thead>\n",
              "  <tbody>\n",
              "    <tr>\n",
              "      <th>0</th>\n",
              "      <td>12616.11</td>\n",
              "      <td>61342.65</td>\n",
              "      <td>1810.86</td>\n",
              "      <td>best</td>\n",
              "      <td>19.370504</td>\n",
              "      <td>3.028202</td>\n",
              "      <td>18.020394</td>\n",
              "    </tr>\n",
              "    <tr>\n",
              "      <th>1</th>\n",
              "      <td>25050.55</td>\n",
              "      <td>83700.42</td>\n",
              "      <td>3975.82</td>\n",
              "      <td>best</td>\n",
              "      <td>63.483097</td>\n",
              "      <td>4.451359</td>\n",
              "      <td>40.182583</td>\n",
              "    </tr>\n",
              "    <tr>\n",
              "      <th>2</th>\n",
              "      <td>11499.06</td>\n",
              "      <td>35050.32</td>\n",
              "      <td>4389.54</td>\n",
              "      <td>best</td>\n",
              "      <td>15.407642</td>\n",
              "      <td>1.354596</td>\n",
              "      <td>44.417738</td>\n",
              "    </tr>\n",
              "    <tr>\n",
              "      <th>3</th>\n",
              "      <td>22248.07</td>\n",
              "      <td>114575.08</td>\n",
              "      <td>3885.75</td>\n",
              "      <td>best</td>\n",
              "      <td>53.540980</td>\n",
              "      <td>6.416648</td>\n",
              "      <td>39.260557</td>\n",
              "    </tr>\n",
              "    <tr>\n",
              "      <th>4</th>\n",
              "      <td>27326.11</td>\n",
              "      <td>166920.02</td>\n",
              "      <td>4940.61</td>\n",
              "      <td>best</td>\n",
              "      <td>71.555905</td>\n",
              "      <td>9.748601</td>\n",
              "      <td>50.058913</td>\n",
              "    </tr>\n",
              "  </tbody>\n",
              "</table>\n",
              "</div>"
            ],
            "text/plain": [
              "   Total Salary  Total Balance  ...  Annual Balance Annual Spending\n",
              "0      12616.11       61342.65  ...        3.028202       18.020394\n",
              "1      25050.55       83700.42  ...        4.451359       40.182583\n",
              "2      11499.06       35050.32  ...        1.354596       44.417738\n",
              "3      22248.07      114575.08  ...        6.416648       39.260557\n",
              "4      27326.11      166920.02  ...        9.748601       50.058913\n",
              "\n",
              "[5 rows x 7 columns]"
            ]
          },
          "metadata": {
            "tags": []
          },
          "execution_count": 70
        }
      ]
    },
    {
      "cell_type": "code",
      "metadata": {
        "id": "TOXDhmKBQONG"
      },
      "source": [
        "def calculate_annual_salary_percentile(annual_salary, annual_salary_list):\n",
        "    annual_salary_percentiles=np.percentile(annual_salary_list,[10,20,30,40,50,60,70,80,90,100])\n",
        "    percentile=0\n",
        "    for i,val  in enumerate(annual_salary_percentiles):\n",
        "        if annual_salary>val:\n",
        "            percentile=i\n",
        "    annual_salary_percentiles[percentile]\n",
        "    percentile=(percentile+1)*10\n",
        "    return percentile\n",
        "  "
      ],
      "execution_count": 71,
      "outputs": []
    },
    {
      "cell_type": "code",
      "metadata": {
        "id": "7qcrMmNCRqG9"
      },
      "source": [
        "\n",
        "anz['Salary Percentile']= anz['Annual Salary'].apply(calculate_annual_salary_percentile, args=(anz['Annual Salary'],))"
      ],
      "execution_count": 72,
      "outputs": []
    },
    {
      "cell_type": "code",
      "metadata": {
        "id": "y6sdA6iHSMgq"
      },
      "source": [
        "anz['Balance Percentile'] = anz['Annual Balance'].apply(calculate_annual_salary_percentile, args=(anz['Annual Balance'],))\n",
        "anz['Spending Percentile'] = anz['Annual Spending'].apply(calculate_annual_salary_percentile, args=(anz['Annual Spending'],))"
      ],
      "execution_count": 73,
      "outputs": []
    },
    {
      "cell_type": "code",
      "metadata": {
        "id": "95GBTmS-SOoG"
      },
      "source": [
        "anz = anz[['Total Salary', 'Total Balance', 'Total Spending', 'Status',\n",
        "       'Annual Salary', 'Annual Balance', 'Annual Spending',\n",
        "       'Salary Percentile', 'Balance Percentile',\n",
        "       'Spending Percentile']]"
      ],
      "execution_count": 74,
      "outputs": []
    },
    {
      "cell_type": "code",
      "metadata": {
        "id": "htCeQMuwUIQq"
      },
      "source": [
        "def formula(d):\n",
        "  if d['Spending Percentile'] > d['Salary Percentile'] and d['Balance Percentile'] < d['Spending Percentile']:\n",
        "    return \"bad\"\n",
        "  elif d['Spending Percentile']<d['Salary Percentile'] and d['Spending Percentile']>d['Balance Percentile']:\n",
        "    return \"good\"\n",
        "  elif d['Spending Percentile']>d['Salary Percentile'] and d['Spending Percentile']<d['Balance Percentile']:\n",
        "    return \"good\" \n",
        "  elif d['Spending Percentile']<d['Salary Percentile'] and d['Spending Percentile'] < d['Balance Percentile']:\n",
        "    return \"best\"\n",
        "  else:\n",
        "    return \"bad\"\n",
        "anz['Status'] = anz.apply(formula,axis = 1)"
      ],
      "execution_count": 75,
      "outputs": []
    },
    {
      "cell_type": "code",
      "metadata": {
        "colab": {
          "base_uri": "https://localhost:8080/"
        },
        "id": "BINg5QIlS_rd",
        "outputId": "670e6f84-f0c1-4e61-cdfd-c62bb8860fe6"
      },
      "source": [
        "anz.Status.value_counts()"
      ],
      "execution_count": 76,
      "outputs": [
        {
          "output_type": "execute_result",
          "data": {
            "text/plain": [
              "bad     54\n",
              "best    32\n",
              "good    14\n",
              "Name: Status, dtype: int64"
            ]
          },
          "metadata": {
            "tags": []
          },
          "execution_count": 76
        }
      ]
    },
    {
      "cell_type": "code",
      "metadata": {
        "colab": {
          "base_uri": "https://localhost:8080/",
          "height": 221
        },
        "id": "Mvrv-x_eVB0P",
        "outputId": "48303288-a963-4b95-b3e0-47a304cb0d04"
      },
      "source": [
        "anz.head()"
      ],
      "execution_count": 77,
      "outputs": [
        {
          "output_type": "execute_result",
          "data": {
            "text/html": [
              "<div>\n",
              "<style scoped>\n",
              "    .dataframe tbody tr th:only-of-type {\n",
              "        vertical-align: middle;\n",
              "    }\n",
              "\n",
              "    .dataframe tbody tr th {\n",
              "        vertical-align: top;\n",
              "    }\n",
              "\n",
              "    .dataframe thead th {\n",
              "        text-align: right;\n",
              "    }\n",
              "</style>\n",
              "<table border=\"1\" class=\"dataframe\">\n",
              "  <thead>\n",
              "    <tr style=\"text-align: right;\">\n",
              "      <th></th>\n",
              "      <th>Total Salary</th>\n",
              "      <th>Total Balance</th>\n",
              "      <th>Total Spending</th>\n",
              "      <th>Status</th>\n",
              "      <th>Annual Salary</th>\n",
              "      <th>Annual Balance</th>\n",
              "      <th>Annual Spending</th>\n",
              "      <th>Salary Percentile</th>\n",
              "      <th>Balance Percentile</th>\n",
              "      <th>Spending Percentile</th>\n",
              "    </tr>\n",
              "  </thead>\n",
              "  <tbody>\n",
              "    <tr>\n",
              "      <th>0</th>\n",
              "      <td>12616.11</td>\n",
              "      <td>61342.65</td>\n",
              "      <td>1810.86</td>\n",
              "      <td>best</td>\n",
              "      <td>19.370504</td>\n",
              "      <td>3.028202</td>\n",
              "      <td>18.020394</td>\n",
              "      <td>30</td>\n",
              "      <td>40</td>\n",
              "      <td>20</td>\n",
              "    </tr>\n",
              "    <tr>\n",
              "      <th>1</th>\n",
              "      <td>25050.55</td>\n",
              "      <td>83700.42</td>\n",
              "      <td>3975.82</td>\n",
              "      <td>good</td>\n",
              "      <td>63.483097</td>\n",
              "      <td>4.451359</td>\n",
              "      <td>40.182583</td>\n",
              "      <td>80</td>\n",
              "      <td>50</td>\n",
              "      <td>70</td>\n",
              "    </tr>\n",
              "    <tr>\n",
              "      <th>2</th>\n",
              "      <td>11499.06</td>\n",
              "      <td>35050.32</td>\n",
              "      <td>4389.54</td>\n",
              "      <td>bad</td>\n",
              "      <td>15.407642</td>\n",
              "      <td>1.354596</td>\n",
              "      <td>44.417738</td>\n",
              "      <td>20</td>\n",
              "      <td>10</td>\n",
              "      <td>80</td>\n",
              "    </tr>\n",
              "    <tr>\n",
              "      <th>3</th>\n",
              "      <td>22248.07</td>\n",
              "      <td>114575.08</td>\n",
              "      <td>3885.75</td>\n",
              "      <td>bad</td>\n",
              "      <td>53.540980</td>\n",
              "      <td>6.416648</td>\n",
              "      <td>39.260557</td>\n",
              "      <td>70</td>\n",
              "      <td>70</td>\n",
              "      <td>70</td>\n",
              "    </tr>\n",
              "    <tr>\n",
              "      <th>4</th>\n",
              "      <td>27326.11</td>\n",
              "      <td>166920.02</td>\n",
              "      <td>4940.61</td>\n",
              "      <td>bad</td>\n",
              "      <td>71.555905</td>\n",
              "      <td>9.748601</td>\n",
              "      <td>50.058913</td>\n",
              "      <td>80</td>\n",
              "      <td>80</td>\n",
              "      <td>80</td>\n",
              "    </tr>\n",
              "  </tbody>\n",
              "</table>\n",
              "</div>"
            ],
            "text/plain": [
              "   Total Salary  Total Balance  ...  Balance Percentile Spending Percentile\n",
              "0      12616.11       61342.65  ...                  40                  20\n",
              "1      25050.55       83700.42  ...                  50                  70\n",
              "2      11499.06       35050.32  ...                  10                  80\n",
              "3      22248.07      114575.08  ...                  70                  70\n",
              "4      27326.11      166920.02  ...                  80                  80\n",
              "\n",
              "[5 rows x 10 columns]"
            ]
          },
          "metadata": {
            "tags": []
          },
          "execution_count": 77
        }
      ]
    },
    {
      "cell_type": "code",
      "metadata": {
        "colab": {
          "base_uri": "https://localhost:8080/"
        },
        "id": "3PvB7vDlv4fW",
        "outputId": "3c417e97-71ac-4b7a-e56a-791a33da5424"
      },
      "source": [
        "anz.shape"
      ],
      "execution_count": 78,
      "outputs": [
        {
          "output_type": "execute_result",
          "data": {
            "text/plain": [
              "(100, 10)"
            ]
          },
          "metadata": {
            "tags": []
          },
          "execution_count": 78
        }
      ]
    },
    {
      "cell_type": "code",
      "metadata": {
        "colab": {
          "base_uri": "https://localhost:8080/",
          "height": 204
        },
        "id": "9wr9QW4mwWVi",
        "outputId": "efc8c39c-5735-4b87-a41e-ec2713f1e273"
      },
      "source": [
        "d.head()"
      ],
      "execution_count": 79,
      "outputs": [
        {
          "output_type": "execute_result",
          "data": {
            "text/html": [
              "<div>\n",
              "<style scoped>\n",
              "    .dataframe tbody tr th:only-of-type {\n",
              "        vertical-align: middle;\n",
              "    }\n",
              "\n",
              "    .dataframe tbody tr th {\n",
              "        vertical-align: top;\n",
              "    }\n",
              "\n",
              "    .dataframe thead th {\n",
              "        text-align: right;\n",
              "    }\n",
              "</style>\n",
              "<table border=\"1\" class=\"dataframe\">\n",
              "  <thead>\n",
              "    <tr style=\"text-align: right;\">\n",
              "      <th></th>\n",
              "      <th>txn_description</th>\n",
              "      <th>balance</th>\n",
              "      <th>gender</th>\n",
              "      <th>age</th>\n",
              "      <th>amount</th>\n",
              "      <th>movement</th>\n",
              "      <th>card_present_flag</th>\n",
              "      <th>merchant_state</th>\n",
              "      <th>Count</th>\n",
              "      <th>count</th>\n",
              "      <th>Total Salary</th>\n",
              "      <th>Total Balance</th>\n",
              "      <th>Total Spending</th>\n",
              "    </tr>\n",
              "  </thead>\n",
              "  <tbody>\n",
              "    <tr>\n",
              "      <th>0</th>\n",
              "      <td>POS</td>\n",
              "      <td>35.39</td>\n",
              "      <td>0</td>\n",
              "      <td>26</td>\n",
              "      <td>16.25</td>\n",
              "      <td>debit</td>\n",
              "      <td>1</td>\n",
              "      <td>QLD</td>\n",
              "      <td>1</td>\n",
              "      <td>14</td>\n",
              "      <td>14191.38</td>\n",
              "      <td>29963.79</td>\n",
              "      <td>9819.21</td>\n",
              "    </tr>\n",
              "    <tr>\n",
              "      <th>1</th>\n",
              "      <td>SALES-POS</td>\n",
              "      <td>21.20</td>\n",
              "      <td>0</td>\n",
              "      <td>26</td>\n",
              "      <td>14.19</td>\n",
              "      <td>debit</td>\n",
              "      <td>0</td>\n",
              "      <td>NSW</td>\n",
              "      <td>1</td>\n",
              "      <td>14</td>\n",
              "      <td>14191.38</td>\n",
              "      <td>29963.79</td>\n",
              "      <td>9819.21</td>\n",
              "    </tr>\n",
              "    <tr>\n",
              "      <th>2</th>\n",
              "      <td>POS</td>\n",
              "      <td>5.71</td>\n",
              "      <td>1</td>\n",
              "      <td>38</td>\n",
              "      <td>6.42</td>\n",
              "      <td>debit</td>\n",
              "      <td>1</td>\n",
              "      <td>NSW</td>\n",
              "      <td>1</td>\n",
              "      <td>13</td>\n",
              "      <td>13027.69</td>\n",
              "      <td>22826.60</td>\n",
              "      <td>9685.76</td>\n",
              "    </tr>\n",
              "    <tr>\n",
              "      <th>3</th>\n",
              "      <td>SALES-POS</td>\n",
              "      <td>2117.22</td>\n",
              "      <td>0</td>\n",
              "      <td>40</td>\n",
              "      <td>40.90</td>\n",
              "      <td>debit</td>\n",
              "      <td>1</td>\n",
              "      <td>QLD</td>\n",
              "      <td>1</td>\n",
              "      <td>13</td>\n",
              "      <td>11597.17</td>\n",
              "      <td>51472.20</td>\n",
              "      <td>6845.27</td>\n",
              "    </tr>\n",
              "    <tr>\n",
              "      <th>4</th>\n",
              "      <td>SALES-POS</td>\n",
              "      <td>17.95</td>\n",
              "      <td>0</td>\n",
              "      <td>26</td>\n",
              "      <td>3.25</td>\n",
              "      <td>debit</td>\n",
              "      <td>1</td>\n",
              "      <td>QLD</td>\n",
              "      <td>1</td>\n",
              "      <td>14</td>\n",
              "      <td>14191.38</td>\n",
              "      <td>29963.79</td>\n",
              "      <td>9819.21</td>\n",
              "    </tr>\n",
              "  </tbody>\n",
              "</table>\n",
              "</div>"
            ],
            "text/plain": [
              "  txn_description  balance  gender  ...  Total Salary  Total Balance Total Spending\n",
              "0             POS    35.39       0  ...      14191.38       29963.79        9819.21\n",
              "1       SALES-POS    21.20       0  ...      14191.38       29963.79        9819.21\n",
              "2             POS     5.71       1  ...      13027.69       22826.60        9685.76\n",
              "3       SALES-POS  2117.22       0  ...      11597.17       51472.20        6845.27\n",
              "4       SALES-POS    17.95       0  ...      14191.38       29963.79        9819.21\n",
              "\n",
              "[5 rows x 13 columns]"
            ]
          },
          "metadata": {
            "tags": []
          },
          "execution_count": 79
        }
      ]
    },
    {
      "cell_type": "code",
      "metadata": {
        "colab": {
          "base_uri": "https://localhost:8080/",
          "height": 221
        },
        "id": "jOGjnf_Iwewp",
        "outputId": "c0ae81c2-808d-4e3a-8dd4-8c1291eaae82"
      },
      "source": [
        "anz.head()"
      ],
      "execution_count": 80,
      "outputs": [
        {
          "output_type": "execute_result",
          "data": {
            "text/html": [
              "<div>\n",
              "<style scoped>\n",
              "    .dataframe tbody tr th:only-of-type {\n",
              "        vertical-align: middle;\n",
              "    }\n",
              "\n",
              "    .dataframe tbody tr th {\n",
              "        vertical-align: top;\n",
              "    }\n",
              "\n",
              "    .dataframe thead th {\n",
              "        text-align: right;\n",
              "    }\n",
              "</style>\n",
              "<table border=\"1\" class=\"dataframe\">\n",
              "  <thead>\n",
              "    <tr style=\"text-align: right;\">\n",
              "      <th></th>\n",
              "      <th>Total Salary</th>\n",
              "      <th>Total Balance</th>\n",
              "      <th>Total Spending</th>\n",
              "      <th>Status</th>\n",
              "      <th>Annual Salary</th>\n",
              "      <th>Annual Balance</th>\n",
              "      <th>Annual Spending</th>\n",
              "      <th>Salary Percentile</th>\n",
              "      <th>Balance Percentile</th>\n",
              "      <th>Spending Percentile</th>\n",
              "    </tr>\n",
              "  </thead>\n",
              "  <tbody>\n",
              "    <tr>\n",
              "      <th>0</th>\n",
              "      <td>12616.11</td>\n",
              "      <td>61342.65</td>\n",
              "      <td>1810.86</td>\n",
              "      <td>best</td>\n",
              "      <td>19.370504</td>\n",
              "      <td>3.028202</td>\n",
              "      <td>18.020394</td>\n",
              "      <td>30</td>\n",
              "      <td>40</td>\n",
              "      <td>20</td>\n",
              "    </tr>\n",
              "    <tr>\n",
              "      <th>1</th>\n",
              "      <td>25050.55</td>\n",
              "      <td>83700.42</td>\n",
              "      <td>3975.82</td>\n",
              "      <td>good</td>\n",
              "      <td>63.483097</td>\n",
              "      <td>4.451359</td>\n",
              "      <td>40.182583</td>\n",
              "      <td>80</td>\n",
              "      <td>50</td>\n",
              "      <td>70</td>\n",
              "    </tr>\n",
              "    <tr>\n",
              "      <th>2</th>\n",
              "      <td>11499.06</td>\n",
              "      <td>35050.32</td>\n",
              "      <td>4389.54</td>\n",
              "      <td>bad</td>\n",
              "      <td>15.407642</td>\n",
              "      <td>1.354596</td>\n",
              "      <td>44.417738</td>\n",
              "      <td>20</td>\n",
              "      <td>10</td>\n",
              "      <td>80</td>\n",
              "    </tr>\n",
              "    <tr>\n",
              "      <th>3</th>\n",
              "      <td>22248.07</td>\n",
              "      <td>114575.08</td>\n",
              "      <td>3885.75</td>\n",
              "      <td>bad</td>\n",
              "      <td>53.540980</td>\n",
              "      <td>6.416648</td>\n",
              "      <td>39.260557</td>\n",
              "      <td>70</td>\n",
              "      <td>70</td>\n",
              "      <td>70</td>\n",
              "    </tr>\n",
              "    <tr>\n",
              "      <th>4</th>\n",
              "      <td>27326.11</td>\n",
              "      <td>166920.02</td>\n",
              "      <td>4940.61</td>\n",
              "      <td>bad</td>\n",
              "      <td>71.555905</td>\n",
              "      <td>9.748601</td>\n",
              "      <td>50.058913</td>\n",
              "      <td>80</td>\n",
              "      <td>80</td>\n",
              "      <td>80</td>\n",
              "    </tr>\n",
              "  </tbody>\n",
              "</table>\n",
              "</div>"
            ],
            "text/plain": [
              "   Total Salary  Total Balance  ...  Balance Percentile Spending Percentile\n",
              "0      12616.11       61342.65  ...                  40                  20\n",
              "1      25050.55       83700.42  ...                  50                  70\n",
              "2      11499.06       35050.32  ...                  10                  80\n",
              "3      22248.07      114575.08  ...                  70                  70\n",
              "4      27326.11      166920.02  ...                  80                  80\n",
              "\n",
              "[5 rows x 10 columns]"
            ]
          },
          "metadata": {
            "tags": []
          },
          "execution_count": 80
        }
      ]
    },
    {
      "cell_type": "code",
      "metadata": {
        "colab": {
          "base_uri": "https://localhost:8080/",
          "height": 204
        },
        "id": "PLMcKSKfw-gf",
        "outputId": "78c1bd21-f44b-4fbd-9a16-96117cc569af"
      },
      "source": [
        "cust.head()"
      ],
      "execution_count": 81,
      "outputs": [
        {
          "output_type": "execute_result",
          "data": {
            "text/html": [
              "<div>\n",
              "<style scoped>\n",
              "    .dataframe tbody tr th:only-of-type {\n",
              "        vertical-align: middle;\n",
              "    }\n",
              "\n",
              "    .dataframe tbody tr th {\n",
              "        vertical-align: top;\n",
              "    }\n",
              "\n",
              "    .dataframe thead th {\n",
              "        text-align: right;\n",
              "    }\n",
              "</style>\n",
              "<table border=\"1\" class=\"dataframe\">\n",
              "  <thead>\n",
              "    <tr style=\"text-align: right;\">\n",
              "      <th></th>\n",
              "      <th>customer_id</th>\n",
              "      <th>count</th>\n",
              "      <th>Total Salary</th>\n",
              "      <th>Total Balance</th>\n",
              "      <th>Total Spending</th>\n",
              "    </tr>\n",
              "  </thead>\n",
              "  <tbody>\n",
              "    <tr>\n",
              "      <th>0</th>\n",
              "      <td>CUS-1005756958</td>\n",
              "      <td>13</td>\n",
              "      <td>12616.11</td>\n",
              "      <td>61342.65</td>\n",
              "      <td>1810.86</td>\n",
              "    </tr>\n",
              "    <tr>\n",
              "      <th>1</th>\n",
              "      <td>CUS-1117979751</td>\n",
              "      <td>7</td>\n",
              "      <td>25050.55</td>\n",
              "      <td>83700.42</td>\n",
              "      <td>3975.82</td>\n",
              "    </tr>\n",
              "    <tr>\n",
              "      <th>2</th>\n",
              "      <td>CUS-1140341822</td>\n",
              "      <td>6</td>\n",
              "      <td>11499.06</td>\n",
              "      <td>35050.32</td>\n",
              "      <td>4389.54</td>\n",
              "    </tr>\n",
              "    <tr>\n",
              "      <th>3</th>\n",
              "      <td>CUS-1147642491</td>\n",
              "      <td>13</td>\n",
              "      <td>22248.07</td>\n",
              "      <td>114575.08</td>\n",
              "      <td>3885.75</td>\n",
              "    </tr>\n",
              "    <tr>\n",
              "      <th>4</th>\n",
              "      <td>CUS-1196156254</td>\n",
              "      <td>7</td>\n",
              "      <td>27326.11</td>\n",
              "      <td>166920.02</td>\n",
              "      <td>4940.61</td>\n",
              "    </tr>\n",
              "  </tbody>\n",
              "</table>\n",
              "</div>"
            ],
            "text/plain": [
              "      customer_id  count  Total Salary  Total Balance  Total Spending\n",
              "0  CUS-1005756958     13      12616.11       61342.65         1810.86\n",
              "1  CUS-1117979751      7      25050.55       83700.42         3975.82\n",
              "2  CUS-1140341822      6      11499.06       35050.32         4389.54\n",
              "3  CUS-1147642491     13      22248.07      114575.08         3885.75\n",
              "4  CUS-1196156254      7      27326.11      166920.02         4940.61"
            ]
          },
          "metadata": {
            "tags": []
          },
          "execution_count": 81
        }
      ]
    },
    {
      "cell_type": "code",
      "metadata": {
        "colab": {
          "base_uri": "https://localhost:8080/",
          "height": 496
        },
        "id": "KMlChjMixWnV",
        "outputId": "b7611f05-e2bf-4263-9383-2984d597e9fc"
      },
      "source": [
        "data.head()"
      ],
      "execution_count": 82,
      "outputs": [
        {
          "output_type": "execute_result",
          "data": {
            "text/html": [
              "<div>\n",
              "<style scoped>\n",
              "    .dataframe tbody tr th:only-of-type {\n",
              "        vertical-align: middle;\n",
              "    }\n",
              "\n",
              "    .dataframe tbody tr th {\n",
              "        vertical-align: top;\n",
              "    }\n",
              "\n",
              "    .dataframe thead th {\n",
              "        text-align: right;\n",
              "    }\n",
              "</style>\n",
              "<table border=\"1\" class=\"dataframe\">\n",
              "  <thead>\n",
              "    <tr style=\"text-align: right;\">\n",
              "      <th></th>\n",
              "      <th>status</th>\n",
              "      <th>account</th>\n",
              "      <th>currency</th>\n",
              "      <th>long_lat</th>\n",
              "      <th>txn_description</th>\n",
              "      <th>first_name</th>\n",
              "      <th>balance</th>\n",
              "      <th>date</th>\n",
              "      <th>gender</th>\n",
              "      <th>age</th>\n",
              "      <th>extraction</th>\n",
              "      <th>amount</th>\n",
              "      <th>transaction_id</th>\n",
              "      <th>country</th>\n",
              "      <th>customer_id</th>\n",
              "      <th>movement</th>\n",
              "      <th>card_present_flag</th>\n",
              "      <th>merchant_id</th>\n",
              "      <th>merchant_suburb</th>\n",
              "      <th>merchant_state</th>\n",
              "      <th>merchant_long_lat</th>\n",
              "      <th>Count</th>\n",
              "      <th>count</th>\n",
              "      <th>Total Salary</th>\n",
              "      <th>Total Balance</th>\n",
              "      <th>Total Spending</th>\n",
              "    </tr>\n",
              "  </thead>\n",
              "  <tbody>\n",
              "    <tr>\n",
              "      <th>0</th>\n",
              "      <td>authorized</td>\n",
              "      <td>ACC-1598451071</td>\n",
              "      <td>AUD</td>\n",
              "      <td>153.41 -27.95</td>\n",
              "      <td>POS</td>\n",
              "      <td>Diana</td>\n",
              "      <td>35.39</td>\n",
              "      <td>2018-08-01</td>\n",
              "      <td>0</td>\n",
              "      <td>26</td>\n",
              "      <td>2018-08-01T01:01:15.000+0000</td>\n",
              "      <td>16.25</td>\n",
              "      <td>a623070bfead4541a6b0fff8a09e706c</td>\n",
              "      <td>Australia</td>\n",
              "      <td>CUS-2487424745</td>\n",
              "      <td>debit</td>\n",
              "      <td>1.0</td>\n",
              "      <td>81c48296-73be-44a7-befa-d053f48ce7cd</td>\n",
              "      <td>Ashmore</td>\n",
              "      <td>QLD</td>\n",
              "      <td>153.38 -27.99</td>\n",
              "      <td>1</td>\n",
              "      <td>14</td>\n",
              "      <td>14191.38</td>\n",
              "      <td>29963.79</td>\n",
              "      <td>9819.21</td>\n",
              "    </tr>\n",
              "    <tr>\n",
              "      <th>1</th>\n",
              "      <td>authorized</td>\n",
              "      <td>ACC-1598451071</td>\n",
              "      <td>AUD</td>\n",
              "      <td>153.41 -27.95</td>\n",
              "      <td>SALES-POS</td>\n",
              "      <td>Diana</td>\n",
              "      <td>21.20</td>\n",
              "      <td>2018-08-01</td>\n",
              "      <td>0</td>\n",
              "      <td>26</td>\n",
              "      <td>2018-08-01T01:13:45.000+0000</td>\n",
              "      <td>14.19</td>\n",
              "      <td>13270a2a902145da9db4c951e04b51b9</td>\n",
              "      <td>Australia</td>\n",
              "      <td>CUS-2487424745</td>\n",
              "      <td>debit</td>\n",
              "      <td>0.0</td>\n",
              "      <td>830a451c-316e-4a6a-bf25-e37caedca49e</td>\n",
              "      <td>Sydney</td>\n",
              "      <td>NSW</td>\n",
              "      <td>151.21 -33.87</td>\n",
              "      <td>1</td>\n",
              "      <td>14</td>\n",
              "      <td>14191.38</td>\n",
              "      <td>29963.79</td>\n",
              "      <td>9819.21</td>\n",
              "    </tr>\n",
              "    <tr>\n",
              "      <th>2</th>\n",
              "      <td>authorized</td>\n",
              "      <td>ACC-1222300524</td>\n",
              "      <td>AUD</td>\n",
              "      <td>151.23 -33.94</td>\n",
              "      <td>POS</td>\n",
              "      <td>Michael</td>\n",
              "      <td>5.71</td>\n",
              "      <td>2018-08-01</td>\n",
              "      <td>1</td>\n",
              "      <td>38</td>\n",
              "      <td>2018-08-01T01:26:15.000+0000</td>\n",
              "      <td>6.42</td>\n",
              "      <td>feb79e7ecd7048a5a36ec889d1a94270</td>\n",
              "      <td>Australia</td>\n",
              "      <td>CUS-2142601169</td>\n",
              "      <td>debit</td>\n",
              "      <td>1.0</td>\n",
              "      <td>835c231d-8cdf-4e96-859d-e9d571760cf0</td>\n",
              "      <td>Sydney</td>\n",
              "      <td>NSW</td>\n",
              "      <td>151.21 -33.87</td>\n",
              "      <td>1</td>\n",
              "      <td>13</td>\n",
              "      <td>13027.69</td>\n",
              "      <td>22826.60</td>\n",
              "      <td>9685.76</td>\n",
              "    </tr>\n",
              "    <tr>\n",
              "      <th>3</th>\n",
              "      <td>authorized</td>\n",
              "      <td>ACC-1037050564</td>\n",
              "      <td>AUD</td>\n",
              "      <td>153.10 -27.66</td>\n",
              "      <td>SALES-POS</td>\n",
              "      <td>Rhonda</td>\n",
              "      <td>2117.22</td>\n",
              "      <td>2018-08-01</td>\n",
              "      <td>0</td>\n",
              "      <td>40</td>\n",
              "      <td>2018-08-01T01:38:45.000+0000</td>\n",
              "      <td>40.90</td>\n",
              "      <td>2698170da3704fd981b15e64a006079e</td>\n",
              "      <td>Australia</td>\n",
              "      <td>CUS-1614226872</td>\n",
              "      <td>debit</td>\n",
              "      <td>1.0</td>\n",
              "      <td>48514682-c78a-4a88-b0da-2d6302e64673</td>\n",
              "      <td>Buderim</td>\n",
              "      <td>QLD</td>\n",
              "      <td>153.05 -26.68</td>\n",
              "      <td>1</td>\n",
              "      <td>13</td>\n",
              "      <td>11597.17</td>\n",
              "      <td>51472.20</td>\n",
              "      <td>6845.27</td>\n",
              "    </tr>\n",
              "    <tr>\n",
              "      <th>4</th>\n",
              "      <td>authorized</td>\n",
              "      <td>ACC-1598451071</td>\n",
              "      <td>AUD</td>\n",
              "      <td>153.41 -27.95</td>\n",
              "      <td>SALES-POS</td>\n",
              "      <td>Diana</td>\n",
              "      <td>17.95</td>\n",
              "      <td>2018-08-01</td>\n",
              "      <td>0</td>\n",
              "      <td>26</td>\n",
              "      <td>2018-08-01T01:51:15.000+0000</td>\n",
              "      <td>3.25</td>\n",
              "      <td>329adf79878c4cf0aeb4188b4691c266</td>\n",
              "      <td>Australia</td>\n",
              "      <td>CUS-2487424745</td>\n",
              "      <td>debit</td>\n",
              "      <td>1.0</td>\n",
              "      <td>b4e02c10-0852-4273-b8fd-7b3395e32eb0</td>\n",
              "      <td>Mermaid Beach</td>\n",
              "      <td>QLD</td>\n",
              "      <td>153.44 -28.06</td>\n",
              "      <td>1</td>\n",
              "      <td>14</td>\n",
              "      <td>14191.38</td>\n",
              "      <td>29963.79</td>\n",
              "      <td>9819.21</td>\n",
              "    </tr>\n",
              "  </tbody>\n",
              "</table>\n",
              "</div>"
            ],
            "text/plain": [
              "       status         account  ... Total Balance Total Spending\n",
              "0  authorized  ACC-1598451071  ...      29963.79        9819.21\n",
              "1  authorized  ACC-1598451071  ...      29963.79        9819.21\n",
              "2  authorized  ACC-1222300524  ...      22826.60        9685.76\n",
              "3  authorized  ACC-1037050564  ...      51472.20        6845.27\n",
              "4  authorized  ACC-1598451071  ...      29963.79        9819.21\n",
              "\n",
              "[5 rows x 26 columns]"
            ]
          },
          "metadata": {
            "tags": []
          },
          "execution_count": 82
        }
      ]
    },
    {
      "cell_type": "code",
      "metadata": {
        "id": "dXTb3sXnxrFE"
      },
      "source": [
        "anz['id'] = cust['customer_id']"
      ],
      "execution_count": 83,
      "outputs": []
    },
    {
      "cell_type": "code",
      "metadata": {
        "id": "Cg5gTQr3yAoc"
      },
      "source": [
        "anz.rename({'id':'customer_id'}, axis = 1, inplace = True)"
      ],
      "execution_count": 84,
      "outputs": []
    },
    {
      "cell_type": "code",
      "metadata": {
        "id": "ok3ilUsmx1MI"
      },
      "source": [
        "#new = pd.merge(anz,data, on = 'customer_id',how = 'right')"
      ],
      "execution_count": 85,
      "outputs": []
    },
    {
      "cell_type": "code",
      "metadata": {
        "colab": {
          "base_uri": "https://localhost:8080/"
        },
        "id": "MODS6tGryPGb",
        "outputId": "c3067e2f-d069-4bf8-991d-9cb001e634c3"
      },
      "source": [
        "anz.shape"
      ],
      "execution_count": 86,
      "outputs": [
        {
          "output_type": "execute_result",
          "data": {
            "text/plain": [
              "(100, 11)"
            ]
          },
          "metadata": {
            "tags": []
          },
          "execution_count": 86
        }
      ]
    },
    {
      "cell_type": "code",
      "metadata": {
        "id": "iLh4P6ETy599",
        "colab": {
          "base_uri": "https://localhost:8080/"
        },
        "outputId": "8f0064f9-b966-4576-926c-90148cba2cc4"
      },
      "source": [
        "anz.Status.value_counts()"
      ],
      "execution_count": 87,
      "outputs": [
        {
          "output_type": "execute_result",
          "data": {
            "text/plain": [
              "bad     54\n",
              "best    32\n",
              "good    14\n",
              "Name: Status, dtype: int64"
            ]
          },
          "metadata": {
            "tags": []
          },
          "execution_count": 87
        }
      ]
    },
    {
      "cell_type": "code",
      "metadata": {
        "id": "_st80LcIMj31"
      },
      "source": [
        "dict = {'bad': 1, 'good': 2, 'best': 3}\n",
        "anz.Status = anz.Status.map(dict)"
      ],
      "execution_count": 88,
      "outputs": []
    },
    {
      "cell_type": "code",
      "metadata": {
        "id": "1Yd7UTA-My6K"
      },
      "source": [
        "anz = anz[['Total Salary', 'Total Balance', 'Total Spending', \n",
        "       'Annual Salary', 'Annual Balance', 'Annual Spending',\n",
        "       'Salary Percentile', 'Balance Percentile', 'Spending Percentile','Status']]"
      ],
      "execution_count": 90,
      "outputs": []
    },
    {
      "cell_type": "code",
      "metadata": {
        "colab": {
          "base_uri": "https://localhost:8080/",
          "height": 419
        },
        "id": "17bl1DQnM12B",
        "outputId": "1b256be9-c391-4ca1-a001-1ed40bc027a1"
      },
      "source": [
        "anz.iloc[:,:-1]"
      ],
      "execution_count": 91,
      "outputs": [
        {
          "output_type": "execute_result",
          "data": {
            "text/html": [
              "<div>\n",
              "<style scoped>\n",
              "    .dataframe tbody tr th:only-of-type {\n",
              "        vertical-align: middle;\n",
              "    }\n",
              "\n",
              "    .dataframe tbody tr th {\n",
              "        vertical-align: top;\n",
              "    }\n",
              "\n",
              "    .dataframe thead th {\n",
              "        text-align: right;\n",
              "    }\n",
              "</style>\n",
              "<table border=\"1\" class=\"dataframe\">\n",
              "  <thead>\n",
              "    <tr style=\"text-align: right;\">\n",
              "      <th></th>\n",
              "      <th>Total Salary</th>\n",
              "      <th>Total Balance</th>\n",
              "      <th>Total Spending</th>\n",
              "      <th>Annual Salary</th>\n",
              "      <th>Annual Balance</th>\n",
              "      <th>Annual Spending</th>\n",
              "      <th>Salary Percentile</th>\n",
              "      <th>Balance Percentile</th>\n",
              "      <th>Spending Percentile</th>\n",
              "    </tr>\n",
              "  </thead>\n",
              "  <tbody>\n",
              "    <tr>\n",
              "      <th>0</th>\n",
              "      <td>12616.11</td>\n",
              "      <td>61342.65</td>\n",
              "      <td>1810.86</td>\n",
              "      <td>19.370504</td>\n",
              "      <td>3.028202</td>\n",
              "      <td>18.020394</td>\n",
              "      <td>30</td>\n",
              "      <td>40</td>\n",
              "      <td>20</td>\n",
              "    </tr>\n",
              "    <tr>\n",
              "      <th>1</th>\n",
              "      <td>25050.55</td>\n",
              "      <td>83700.42</td>\n",
              "      <td>3975.82</td>\n",
              "      <td>63.483097</td>\n",
              "      <td>4.451359</td>\n",
              "      <td>40.182583</td>\n",
              "      <td>80</td>\n",
              "      <td>50</td>\n",
              "      <td>70</td>\n",
              "    </tr>\n",
              "    <tr>\n",
              "      <th>2</th>\n",
              "      <td>11499.06</td>\n",
              "      <td>35050.32</td>\n",
              "      <td>4389.54</td>\n",
              "      <td>15.407642</td>\n",
              "      <td>1.354596</td>\n",
              "      <td>44.417738</td>\n",
              "      <td>20</td>\n",
              "      <td>10</td>\n",
              "      <td>80</td>\n",
              "    </tr>\n",
              "    <tr>\n",
              "      <th>3</th>\n",
              "      <td>22248.07</td>\n",
              "      <td>114575.08</td>\n",
              "      <td>3885.75</td>\n",
              "      <td>53.540980</td>\n",
              "      <td>6.416648</td>\n",
              "      <td>39.260557</td>\n",
              "      <td>70</td>\n",
              "      <td>70</td>\n",
              "      <td>70</td>\n",
              "    </tr>\n",
              "    <tr>\n",
              "      <th>4</th>\n",
              "      <td>27326.11</td>\n",
              "      <td>166920.02</td>\n",
              "      <td>4940.61</td>\n",
              "      <td>71.555905</td>\n",
              "      <td>9.748601</td>\n",
              "      <td>50.058913</td>\n",
              "      <td>80</td>\n",
              "      <td>80</td>\n",
              "      <td>80</td>\n",
              "    </tr>\n",
              "    <tr>\n",
              "      <th>...</th>\n",
              "      <td>...</td>\n",
              "      <td>...</td>\n",
              "      <td>...</td>\n",
              "      <td>...</td>\n",
              "      <td>...</td>\n",
              "      <td>...</td>\n",
              "      <td>...</td>\n",
              "      <td>...</td>\n",
              "      <td>...</td>\n",
              "    </tr>\n",
              "    <tr>\n",
              "      <th>95</th>\n",
              "      <td>8703.84</td>\n",
              "      <td>54704.11</td>\n",
              "      <td>1554.53</td>\n",
              "      <td>5.491281</td>\n",
              "      <td>2.605634</td>\n",
              "      <td>15.396403</td>\n",
              "      <td>10</td>\n",
              "      <td>30</td>\n",
              "      <td>20</td>\n",
              "    </tr>\n",
              "    <tr>\n",
              "      <th>96</th>\n",
              "      <td>13481.91</td>\n",
              "      <td>72529.42</td>\n",
              "      <td>2402.18</td>\n",
              "      <td>22.442028</td>\n",
              "      <td>3.740283</td>\n",
              "      <td>24.073598</td>\n",
              "      <td>40</td>\n",
              "      <td>50</td>\n",
              "      <td>40</td>\n",
              "    </tr>\n",
              "    <tr>\n",
              "      <th>97</th>\n",
              "      <td>10851.72</td>\n",
              "      <td>25328.81</td>\n",
              "      <td>5983.16</td>\n",
              "      <td>13.111130</td>\n",
              "      <td>0.735785</td>\n",
              "      <td>60.731253</td>\n",
              "      <td>10</td>\n",
              "      <td>10</td>\n",
              "      <td>80</td>\n",
              "    </tr>\n",
              "    <tr>\n",
              "      <th>98</th>\n",
              "      <td>8603.88</td>\n",
              "      <td>58334.28</td>\n",
              "      <td>1618.57</td>\n",
              "      <td>5.136661</td>\n",
              "      <td>2.836708</td>\n",
              "      <td>16.051966</td>\n",
              "      <td>10</td>\n",
              "      <td>30</td>\n",
              "      <td>20</td>\n",
              "    </tr>\n",
              "    <tr>\n",
              "      <th>99</th>\n",
              "      <td>27842.22</td>\n",
              "      <td>88893.08</td>\n",
              "      <td>3706.19</td>\n",
              "      <td>73.386864</td>\n",
              "      <td>4.781891</td>\n",
              "      <td>37.422444</td>\n",
              "      <td>90</td>\n",
              "      <td>60</td>\n",
              "      <td>60</td>\n",
              "    </tr>\n",
              "  </tbody>\n",
              "</table>\n",
              "<p>100 rows × 9 columns</p>\n",
              "</div>"
            ],
            "text/plain": [
              "    Total Salary  Total Balance  ...  Balance Percentile  Spending Percentile\n",
              "0       12616.11       61342.65  ...                  40                   20\n",
              "1       25050.55       83700.42  ...                  50                   70\n",
              "2       11499.06       35050.32  ...                  10                   80\n",
              "3       22248.07      114575.08  ...                  70                   70\n",
              "4       27326.11      166920.02  ...                  80                   80\n",
              "..           ...            ...  ...                 ...                  ...\n",
              "95       8703.84       54704.11  ...                  30                   20\n",
              "96      13481.91       72529.42  ...                  50                   40\n",
              "97      10851.72       25328.81  ...                  10                   80\n",
              "98       8603.88       58334.28  ...                  30                   20\n",
              "99      27842.22       88893.08  ...                  60                   60\n",
              "\n",
              "[100 rows x 9 columns]"
            ]
          },
          "metadata": {
            "tags": []
          },
          "execution_count": 91
        }
      ]
    },
    {
      "cell_type": "code",
      "metadata": {
        "id": "5TpW2Ya-NOVB"
      },
      "source": [
        "scaler = MinMaxScaler()\n",
        "d = pd.DataFrame(scaler.fit_transform(anz.iloc[:,:-1].values), columns=anz.iloc[:,:-1].columns, index=anz.index)"
      ],
      "execution_count": 97,
      "outputs": []
    },
    {
      "cell_type": "code",
      "metadata": {
        "colab": {
          "base_uri": "https://localhost:8080/"
        },
        "id": "jFIppzvbN-oD",
        "outputId": "b8ef0a8b-37b8-4e3f-a668-efb9398c6b1a"
      },
      "source": [
        "d.Status = anz.Status"
      ],
      "execution_count": 99,
      "outputs": [
        {
          "output_type": "stream",
          "text": [
            "/usr/local/lib/python3.7/dist-packages/ipykernel_launcher.py:1: UserWarning: Pandas doesn't allow columns to be created via a new attribute name - see https://pandas.pydata.org/pandas-docs/stable/indexing.html#attribute-access\n",
            "  \"\"\"Entry point for launching an IPython kernel.\n"
          ],
          "name": "stderr"
        }
      ]
    },
    {
      "cell_type": "code",
      "metadata": {
        "id": "Zurx-f_eOABm"
      },
      "source": [
        "y = anz.Status\n",
        "X = d"
      ],
      "execution_count": 102,
      "outputs": []
    },
    {
      "cell_type": "code",
      "metadata": {
        "id": "cDsey3sGPHZN"
      },
      "source": [
        "from sklearn.model_selection import train_test_split\n",
        "X_train, X_test, y_train, y_test = train_test_split(X, y, test_size=0.2, random_state=12)"
      ],
      "execution_count": 107,
      "outputs": []
    },
    {
      "cell_type": "code",
      "metadata": {
        "colab": {
          "base_uri": "https://localhost:8080/"
        },
        "id": "_f4npcSlPXRE",
        "outputId": "bc44d681-ff0d-4b56-b46f-6333802dd80f"
      },
      "source": [
        "from sklearn.ensemble import RandomForestClassifier\n",
        "regr = RandomForestClassifier(max_depth=2, random_state=0)\n",
        "regr.fit(X_train, y_train)"
      ],
      "execution_count": 112,
      "outputs": [
        {
          "output_type": "execute_result",
          "data": {
            "text/plain": [
              "RandomForestClassifier(bootstrap=True, ccp_alpha=0.0, class_weight=None,\n",
              "                       criterion='gini', max_depth=2, max_features='auto',\n",
              "                       max_leaf_nodes=None, max_samples=None,\n",
              "                       min_impurity_decrease=0.0, min_impurity_split=None,\n",
              "                       min_samples_leaf=1, min_samples_split=2,\n",
              "                       min_weight_fraction_leaf=0.0, n_estimators=100,\n",
              "                       n_jobs=None, oob_score=False, random_state=0, verbose=0,\n",
              "                       warm_start=False)"
            ]
          },
          "metadata": {
            "tags": []
          },
          "execution_count": 112
        }
      ]
    },
    {
      "cell_type": "code",
      "metadata": {
        "id": "Uqpm313fQTdl"
      },
      "source": [
        "pred = regr.predict(X_test)"
      ],
      "execution_count": 113,
      "outputs": []
    },
    {
      "cell_type": "code",
      "metadata": {
        "colab": {
          "base_uri": "https://localhost:8080/"
        },
        "id": "GVW4CcajQeNg",
        "outputId": "b14542c7-d2c6-4921-fee0-785c91cd3d20"
      },
      "source": [
        "from sklearn.metrics import classification_report, confusion_matrix, accuracy_score\n",
        "\n",
        "print(confusion_matrix(y_test,pred))\n",
        "print(classification_report(y_test,pred))\n",
        "print(accuracy_score(y_test, pred))"
      ],
      "execution_count": 115,
      "outputs": [
        {
          "output_type": "stream",
          "text": [
            "[[10  0  0]\n",
            " [ 5  0  0]\n",
            " [ 1  0  4]]\n",
            "              precision    recall  f1-score   support\n",
            "\n",
            "           1       0.62      1.00      0.77        10\n",
            "           2       0.00      0.00      0.00         5\n",
            "           3       1.00      0.80      0.89         5\n",
            "\n",
            "    accuracy                           0.70        20\n",
            "   macro avg       0.54      0.60      0.55        20\n",
            "weighted avg       0.56      0.70      0.61        20\n",
            "\n",
            "0.7\n"
          ],
          "name": "stdout"
        },
        {
          "output_type": "stream",
          "text": [
            "/usr/local/lib/python3.7/dist-packages/sklearn/metrics/_classification.py:1272: UndefinedMetricWarning: Precision and F-score are ill-defined and being set to 0.0 in labels with no predicted samples. Use `zero_division` parameter to control this behavior.\n",
            "  _warn_prf(average, modifier, msg_start, len(result))\n"
          ],
          "name": "stderr"
        }
      ]
    },
    {
      "cell_type": "code",
      "metadata": {
        "id": "MQt4XApKQkrP"
      },
      "source": [
        ""
      ],
      "execution_count": null,
      "outputs": []
    }
  ]
}